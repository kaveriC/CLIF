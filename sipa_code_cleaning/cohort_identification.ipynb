{
 "cells": [
  {
   "cell_type": "code",
   "execution_count": null,
   "id": "96b70f31",
   "metadata": {
    "scrolled": false
   },
   "outputs": [],
   "source": [
    "import pandas as pd\n",
    "df_resp = pd.read_csv('/project2/wparker/RCLIF_respiratory_support_09282023.csv')\n",
    "df_resp.head()"
   ]
  },
  {
   "cell_type": "code",
   "execution_count": null,
   "id": "d9d861da",
   "metadata": {
    "scrolled": true
   },
   "outputs": [],
   "source": [
    "#get just invasive or non-invasive mechanical ventilation\n",
    "vent = df_resp.loc[(df_resp['device_name']=='Vent') | (df_resp['device_name']=='NIPPV')]\n",
    "vent['recorded_time'] = pd.to_datetime(vent['recorded_time'], format='%Y-%m-%d %H:%M:%S')\n",
    "\n",
    "# minimum time by person\n",
    "\n",
    "vent_grouped = vent.groupby('C19_HAR_ID')['recorded_time'].agg(['min'])\n",
    "vent_grouped = vent_grouped.rename(columns={'min': 'min_resp_support_time'})\n",
    "vent_grouped.head()\n"
   ]
  },
  {
   "cell_type": "code",
   "execution_count": null,
   "id": "aca7b197",
   "metadata": {},
   "outputs": [],
   "source": [
    "df_meds = pd.read_csv('/project2/wparker/RCLIF_meds_admin_conti.csv')\n",
    "df_meds.head()"
   ]
  },
  {
   "cell_type": "code",
   "execution_count": null,
   "id": "e4cd7920",
   "metadata": {},
   "outputs": [],
   "source": [
    "pressors = df_meds.loc[(df_meds['med_name']=='phenylephrine') | \n",
    "                       (df_meds['med_name']=='epinephrine') | \n",
    "                       (df_meds['med_name']=='vasopressin') | \n",
    "                       (df_meds['med_name']=='dopamine') |\n",
    "                       (df_meds['med_name']=='dobutamine') |\n",
    "                       (df_meds['med_name']=='norepinephrine') |\n",
    "                       (df_meds['med_name']=='angiotensin') |\n",
    "                       (df_meds['med_name']=='isoproterenol')]\n",
    "pressors = pressors[[\"C19_HAR_ID\", \"admin_time\"]]\n",
    "print(len(pressors))\n",
    "pressors_no_na = pressors.dropna()\n",
    "print(len(pressors_no_na))\n",
    "pressors_no_na['admin_time'] = pd.to_datetime(pressors_no_na['admin_time'], format='%Y-%m-%d %H:%M:%S')\n",
    "\n",
    "\n",
    "pressors_grouped = pressors_no_na.groupby('C19_HAR_ID')['admin_time'].agg(['min'])\n",
    "pressors_grouped = pressors_grouped.rename(columns={'min': 'min_pressor_time'})\n",
    "pressors_grouped.head()"
   ]
  },
  {
   "cell_type": "code",
   "execution_count": null,
   "id": "c8c0d150",
   "metadata": {},
   "outputs": [],
   "source": [
    "df = pressors_grouped.join(vent_grouped, on='C19_HAR_ID', how='outer')\n"
   ]
  },
  {
   "cell_type": "code",
   "execution_count": null,
   "id": "934c76d1",
   "metadata": {
    "scrolled": true
   },
   "outputs": [],
   "source": [
    "df = df[['C19_HAR_ID','min_pressor_time','min_resp_support_time']]\n",
    "df['min_pressor_time'] = pd.to_datetime(df['min_pressor_time'], format='%Y-%m-%d %H:%M:%S')\n",
    "df['min_resp_support_time'] = pd.to_datetime(df['min_resp_support_time'], format='%Y-%m-%d %H:%M:%S')\n",
    "\n",
    "\n",
    "df['life_support_start'] = df[['min_pressor_time','min_resp_support_time']].min(axis=1)\n"
   ]
  },
  {
   "cell_type": "code",
   "execution_count": null,
   "id": "df16cd68",
   "metadata": {
    "scrolled": true
   },
   "outputs": [],
   "source": [
    "df = df[['C19_HAR_ID', 'life_support_start']]\n",
    "display(df)"
   ]
  },
  {
   "cell_type": "code",
   "execution_count": null,
   "id": "9eb334a6",
   "metadata": {},
   "outputs": [],
   "source": [
    "from pathlib import Path \n",
    "filepath=Path('/project2/wparker/cohort.csv')\n",
    "filepath.parent.mkdir(parents=True, exist_ok=True) \n",
    "\n",
    "df.to_csv(filepath, index=False)"
   ]
  },
  {
   "cell_type": "code",
   "execution_count": null,
   "id": "3e78e41f",
   "metadata": {},
   "outputs": [],
   "source": []
  }
 ],
 "metadata": {
  "kernelspec": {
   "display_name": "Python 3 (ipykernel)",
   "language": "python",
   "name": "python3"
  },
  "language_info": {
   "codemirror_mode": {
    "name": "ipython",
    "version": 3
   },
   "file_extension": ".py",
   "mimetype": "text/x-python",
   "name": "python",
   "nbconvert_exporter": "python",
   "pygments_lexer": "ipython3",
   "version": "3.8.5"
  }
 },
 "nbformat": 4,
 "nbformat_minor": 5
}
