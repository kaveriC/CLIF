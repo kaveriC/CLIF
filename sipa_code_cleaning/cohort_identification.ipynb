{
 "cells": [
  {
   "cell_type": "code",
   "execution_count": 1,
   "id": "96b70f31",
   "metadata": {
    "scrolled": false
   },
   "outputs": [],
   "source": [
    "import pandas as pd\n",
    "df_resp = pd.read_csv('/project2/wparker/SIPA_data/RCLIF_respiratory_support_09282023.csv')\n",
    "df_resp['recorded_time'] = pd.to_datetime(df_resp['recorded_time'], format='%Y-%m-%d %H:%M:%S')\n",
    "\n",
    "df_resp = df_resp.loc[(df_resp['recorded_time']>='2020-03-01 00:00:00') & \n",
    "                      (df_resp['recorded_time']<='2022-03-31 11:59:59')]"
   ]
  },
  {
   "cell_type": "code",
   "execution_count": 2,
   "id": "d9d861da",
   "metadata": {
    "scrolled": true
   },
   "outputs": [],
   "source": [
    "#get just invasive or non-invasive mechanical ventilation\n",
    "vent = df_resp.loc[(df_resp['device_name']=='Vent') | (df_resp['device_name']=='NIPPV')]\n",
    "\n",
    "# minimum time by person\n",
    "\n",
    "vent_grouped = vent.groupby('C19_HAR_ID')['recorded_time'].agg(['min'])\n",
    "vent_grouped = vent_grouped.rename(columns={'min': 'min_resp_support_time'})"
   ]
  },
  {
   "cell_type": "code",
   "execution_count": 3,
   "id": "aca7b197",
   "metadata": {},
   "outputs": [],
   "source": [
    "df_meds = pd.read_csv('/project2/wparker/SIPA_data/RCLIF_meds_admin_conti.csv')\n",
    "df_resp['recorded_time'] = pd.to_datetime(df_resp['recorded_time'], format='%Y-%m-%d %H:%M:%S')"
   ]
  },
  {
   "cell_type": "code",
   "execution_count": 4,
   "id": "e4cd7920",
   "metadata": {},
   "outputs": [
    {
     "name": "stdout",
     "output_type": "stream",
     "text": [
      "216776\n",
      "216129\n"
     ]
    },
    {
     "name": "stderr",
     "output_type": "stream",
     "text": [
      "/scratch/local/jobs/9871442/ipykernel_2654588/1479992001.py:13: SettingWithCopyWarning: \n",
      "A value is trying to be set on a copy of a slice from a DataFrame.\n",
      "Try using .loc[row_indexer,col_indexer] = value instead\n",
      "\n",
      "See the caveats in the documentation: https://pandas.pydata.org/pandas-docs/stable/user_guide/indexing.html#returning-a-view-versus-a-copy\n",
      "  pressors_no_na['admin_time'] = pd.to_datetime(pressors_no_na['admin_time'], format='%Y-%m-%d %H:%M:%S')\n"
     ]
    }
   ],
   "source": [
    "pressors = df_meds.loc[(df_meds['med_name']=='phenylephrine') | \n",
    "                       (df_meds['med_name']=='epinephrine') | \n",
    "                       (df_meds['med_name']=='vasopressin') | \n",
    "                       (df_meds['med_name']=='dopamine') |\n",
    "                       (df_meds['med_name']=='dobutamine') |\n",
    "                       (df_meds['med_name']=='norepinephrine') |\n",
    "                       (df_meds['med_name']=='angiotensin') |\n",
    "                       (df_meds['med_name']=='isoproterenol')]\n",
    "pressors = pressors[[\"C19_HAR_ID\", \"admin_time\"]]\n",
    "print(len(pressors))\n",
    "pressors_no_na = pressors.dropna()\n",
    "print(len(pressors_no_na))\n",
    "pressors_no_na['admin_time'] = pd.to_datetime(pressors_no_na['admin_time'], format='%Y-%m-%d %H:%M:%S')\n",
    "pressors_no_na = pressors_no_na.loc[(pressors_no_na['admin_time']>='2020-03-01 00:00:00') & \n",
    "                      (pressors_no_na['admin_time']<='2022-03-31 11:59:59')]\n",
    "\n",
    "pressors_grouped = pressors_no_na.groupby('C19_HAR_ID')['admin_time'].agg(['min'])\n",
    "pressors_grouped = pressors_grouped.rename(columns={'min': 'min_pressor_time'})"
   ]
  },
  {
   "cell_type": "code",
   "execution_count": 5,
   "id": "c8c0d150",
   "metadata": {},
   "outputs": [],
   "source": [
    "df = pressors_grouped.join(vent_grouped, on='C19_HAR_ID', how='outer')"
   ]
  },
  {
   "cell_type": "code",
   "execution_count": 6,
   "id": "934c76d1",
   "metadata": {
    "scrolled": true
   },
   "outputs": [],
   "source": [
    "df = df[['C19_HAR_ID','min_pressor_time','min_resp_support_time']]\n",
    "df['min_pressor_time'] = pd.to_datetime(df['min_pressor_time'], format='%Y-%m-%d %H:%M:%S')\n",
    "df['min_resp_support_time'] = pd.to_datetime(df['min_resp_support_time'], format='%Y-%m-%d %H:%M:%S')\n",
    "\n",
    "\n",
    "df['life_support_start'] = df[['min_pressor_time','min_resp_support_time']].min(axis=1)"
   ]
  },
  {
   "cell_type": "code",
   "execution_count": 7,
   "id": "df16cd68",
   "metadata": {
    "scrolled": true
   },
   "outputs": [],
   "source": [
    "df = df[['C19_HAR_ID', 'life_support_start']]\n",
    "df = df.loc[(df['life_support_start']>='2020-03-01 00:00:00') & \n",
    "                      (df['life_support_start']<='2022-03-31 11:59:59')]"
   ]
  },
  {
   "cell_type": "code",
   "execution_count": 8,
   "id": "9eb334a6",
   "metadata": {},
   "outputs": [],
   "source": [
    "from pathlib import Path \n",
    "filepath=Path('/project2/wparker/SIPA_data/life_support_cohort.csv')\n",
    "filepath.parent.mkdir(parents=True, exist_ok=True) \n",
    "\n",
    "df.to_csv(filepath, index=False)"
   ]
  }
 ],
 "metadata": {
  "kernelspec": {
   "display_name": "Python 3 (ipykernel)",
   "language": "python",
   "name": "python3"
  },
  "language_info": {
   "codemirror_mode": {
    "name": "ipython",
    "version": 3
   },
   "file_extension": ".py",
   "mimetype": "text/x-python",
   "name": "python",
   "nbconvert_exporter": "python",
   "pygments_lexer": "ipython3",
   "version": "3.8.5"
  }
 },
 "nbformat": 4,
 "nbformat_minor": 5
}
