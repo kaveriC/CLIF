{
 "cells": [
  {
   "cell_type": "code",
   "execution_count": 1,
   "id": "8c58f2cf",
   "metadata": {},
   "outputs": [
    {
     "name": "stdout",
     "output_type": "stream",
     "text": [
      "loaded libraries\n"
     ]
    },
    {
     "name": "stderr",
     "output_type": "stream",
     "text": [
      "Setting default log level to \"WARN\".\n",
      "To adjust logging level use sc.setLogLevel(newLevel). For SparkR, use setLogLevel(newLevel).\n",
      "23/11/20 14:56:51 WARN NativeCodeLoader: Unable to load native-hadoop library for your platform... using builtin-java classes where applicable\n"
     ]
    }
   ],
   "source": [
    "from pyspark.sql import SparkSession\n",
    "import pyspark.sql.functions as f\n",
    "from pyspark import SparkConf\n",
    "import gc\n",
    "from pyspark.sql.window import Window\n",
    "\n",
    "\n",
    "\n",
    "print(\"loaded libraries\")\n",
    "spark = SparkSession.builder \\\n",
    "        .appName(\"worst labs\") \\\n",
    "        .getOrCreate()"
   ]
  },
  {
   "cell_type": "code",
   "execution_count": 2,
   "id": "9a96defb",
   "metadata": {},
   "outputs": [
    {
     "name": "stderr",
     "output_type": "stream",
     "text": [
      "\r",
      "[Stage 0:>                                                          (0 + 1) / 1]\r",
      "\r",
      "                                                                                \r"
     ]
    }
   ],
   "source": [
    "## Read in Labs\n",
    "labs = spark.read.parquet(\"/project2/wparker/SIPA_data/RCLIF_labs_10312023.parquet\")\n",
    "labs = labs.withColumn('lab_result_time',f.to_timestamp('lab_order_time','yyyy-MM-dd HH:mm:ss'))\n",
    "labs = labs.select('C19_HAR_ID', 'lab_result_time','lab_name', 'lab_value')\n",
    "\n",
    "### Cleaning up values/columns\n",
    "select_expr = [f.regexp_replace(f.col('lab_name'), \"[\\ufeff]\", \"\").alias('lab_name')]\n",
    "labs = labs.select('C19_HAR_ID', 'lab_result_time', 'lab_value', *select_expr)\n",
    "\n",
    "labs = labs.withColumn('lab_result_time',f.to_timestamp('lab_result_time','yyyy-MM-dd HH:mm:ss'))\n",
    "\n",
    "select_expr = [f.regexp_replace(f.col('lab_value'), \"[\\ufeff]\", \"\").alias('lab_value')]\n",
    "labs = labs.select('C19_HAR_ID', 'lab_result_time', 'lab_name', *select_expr)\n",
    "\n",
    "select_expr = [f.regexp_replace(f.col('lab_value'), \"[<]\", \"\").alias('lab_value')]\n",
    "labs = labs.select('C19_HAR_ID', 'lab_result_time', 'lab_name', *select_expr)\n",
    "\n",
    "select_expr = [f.regexp_replace(f.col('lab_value'), \"[>]\", \"\").alias('lab_value')]\n",
    "labs = labs.select('C19_HAR_ID', 'lab_result_time', 'lab_name', *select_expr)\n",
    "\n",
    "labs = labs.withColumn('meas_hour', f.hour(f.col('lab_result_time')))\n",
    "labs = labs.withColumn('meas_date', f.to_date(f.col('lab_result_time')))\n",
    "labs = labs.withColumn(\"lab_value_num\",labs.lab_value.cast('double'))\n",
    "\n",
    "## Get first and last measurement times per person\n",
    "labs_hours = labs.select(\"C19_HAR_ID\",\"lab_result_time\").distinct()\n",
    "labs_hours = labs_hours.groupBy('C19_HAR_ID').agg((f.min('lab_result_time').alias(\"observed_labs_start\")),\n",
    "                                               (f.max('lab_result_time').alias(\"observed_labs_end\")))\n",
    "\n",
    "labs_hours = labs_hours.withColumn('observed_labs_start',f.to_timestamp('observed_labs_start','yyyy-MM-dd'))\n",
    "labs_hours = labs_hours.withColumn('observed_labs_end',f.to_timestamp('observed_labs_end','yyyy-MM-dd'))\n",
    "\n",
    "## Explode between first and last measurement times to get all hourly timestamps\n",
    "labs_hours = labs_hours.withColumn('txnDt', \n",
    "                                   f.explode(f.expr('sequence(observed_labs_start, observed_labs_end, interval 1 hour)')))\n",
    "labs_hours = labs_hours.withColumn('meas_hour', f.hour(f.col('txnDt')))\n",
    "labs_hours = labs_hours.withColumn('meas_date', f.to_date(f.col('txnDt')))\n",
    "labs_hours = labs_hours.select('C19_HAR_ID', 'txnDt', 'meas_date', 'meas_hour', \n",
    "                               'observed_labs_start', 'observed_labs_end')\n",
    "\n",
    "labs = labs.select('C19_HAR_ID', 'meas_date', 'meas_hour', 'lab_name', 'lab_value_num')\n"
   ]
  },
  {
   "cell_type": "code",
   "execution_count": 3,
   "id": "5625d5f7",
   "metadata": {},
   "outputs": [
    {
     "data": {
      "text/html": [
       "<style>pre { white-space: pre !important; }</style>"
      ],
      "text/plain": [
       "<IPython.core.display.HTML object>"
      ]
     },
     "metadata": {},
     "output_type": "display_data"
    },
    {
     "name": "stderr",
     "output_type": "stream",
     "text": [
      "                                                                                \r"
     ]
    }
   ],
   "source": [
    "from IPython.core.display import HTML\n",
    "display(HTML(\"<style>pre { white-space: pre !important; }</style>\"))\n",
    "\n",
    "## Read in cohort\n",
    "cohort = spark.read.parquet(\"/project2/wparker/SIPA_data/life_support_cohort.parquet\")\n",
    "cohort = cohort.withColumn('life_support_start_time',f.to_timestamp('life_support_start','yyyy-MM-dd HH:mm:ss'))\n",
    "cohort = cohort.select('C19_HAR_ID', 'life_support_start_time')\n",
    "\n",
    "group_cols = [\"C19_HAR_ID\"]\n",
    "cohort_labs = cohort.join(labs, on=group_cols, how=\"left\")\n",
    "\n",
    "cohort_labs = cohort_labs.select('C19_HAR_ID', 'life_support_start_time','meas_date', 'meas_hour', \n",
    "                                       'lab_name', 'lab_value_num')\n",
    "cohort_labs = cohort_labs.filter(f.col('lab_name').isNotNull())\n",
    "\n",
    "## Get min and max for each time lab\n",
    "group_cols = [\"C19_HAR_ID\", \"life_support_start_time\",'meas_date', 'meas_hour']\n",
    "cohort_labs_wide = cohort_labs.groupBy(group_cols) \\\n",
    "                                     .pivot(\"lab_name\") \\\n",
    "                                     .agg(f.min('lab_value_num').alias(\"min\"),\n",
    "                                         f.max('lab_value_num').alias(\"max\")).orderBy(group_cols)\n",
    "\n",
    "cohort_hours = cohort.join(labs_hours, on='C19_HAR_ID', how='left')\n",
    "\n",
    "\n",
    "\n",
    "group_cols = [\"C19_HAR_ID\", 'life_support_start_time', 'meas_date', 'meas_hour']\n",
    "cohort_labs_wide = cohort_hours.join(cohort_labs_wide, on=group_cols, how='full').orderBy(group_cols)\n"
   ]
  },
  {
   "cell_type": "code",
   "execution_count": 4,
   "id": "7fc3eec7",
   "metadata": {},
   "outputs": [],
   "source": [
    "## Carry forward labs we need for SIPA\n",
    "\n",
    "cohort_labs_wide_2 = cohort_labs_wide.withColumn('billirubin_max_filled', \n",
    "                                       f.coalesce(f.col('bilirubin_total_max'), \n",
    "                                                  f.last('bilirubin_total_max', True) \\\n",
    "                                                  .over(Window.partitionBy('C19_HAR_ID') \\\n",
    "                                                        .orderBy('txnDt')), f.lit('NULL')))\n",
    "\n",
    "\n",
    "cohort_labs_wide_2 = cohort_labs_wide_2.withColumn('platelet_count_min_filled', \n",
    "                                       f.coalesce(f.col('platelet_count_min'), \n",
    "                                                  f.last('platelet_count_min', True) \\\n",
    "                                                  .over(Window.partitionBy('C19_HAR_ID') \\\n",
    "                                                        .orderBy('txnDt')), f.lit('NULL')))\n",
    "\n",
    "\n",
    "cohort_labs_wide_2 = cohort_labs_wide_2.withColumn('creatinine_max_filled', \n",
    "                                       f.coalesce(f.col('creatinine_max'), \n",
    "                                                  f.last('creatinine_max', True) \\\n",
    "                                                  .over(Window.partitionBy('C19_HAR_ID') \\\n",
    "                                                        .orderBy('txnDt')), f.lit('NULL')))\n"
   ]
  },
  {
   "cell_type": "code",
   "execution_count": 5,
   "id": "c86cf395",
   "metadata": {},
   "outputs": [],
   "source": [
    "cohort = cohort_labs_wide_2.withColumn('window_start', (f.col('life_support_start_time')-f.expr(\"INTERVAL 42 HOURS\")))\n",
    "cohort = cohort.withColumn('window_end', (f.col('life_support_start_time')+f.expr(\"INTERVAL 6 HOURS\")))\n",
    "\n",
    "cohort_labs_48 = cohort.filter((f.col('txnDt') >= f.col('window_start')) &\n",
    "                              (f.col('txnDt') <= f.col('window_end')))\n",
    "\n"
   ]
  },
  {
   "cell_type": "code",
   "execution_count": null,
   "id": "210d42a7",
   "metadata": {},
   "outputs": [
    {
     "name": "stderr",
     "output_type": "stream",
     "text": [
      "23/11/20 14:57:07 WARN SparkStringUtils: Truncated the string representation of a plan since it was too large. This behavior can be adjusted by setting 'spark.sql.debug.maxToStringFields'.\n",
      "23/11/20 14:57:32 WARN RowBasedKeyValueBatch: Calling spill() on RowBasedKeyValueBatch. Will not spill but return 0.\n",
      "23/11/20 14:57:33 WARN RowBasedKeyValueBatch: Calling spill() on RowBasedKeyValueBatch. Will not spill but return 0.\n",
      "[Stage 31:>                                                         (0 + 2) / 3]\r"
     ]
    }
   ],
   "source": [
    "\n",
    "cohort_labs_48.write.parquet(\"/project2/wparker/SIPA_data/cohort_labs_48.parquet\", mode=\"overwrite\")"
   ]
  },
  {
   "cell_type": "code",
   "execution_count": null,
   "id": "2addbcf3",
   "metadata": {},
   "outputs": [],
   "source": [
    "group_cols = ['C19_HAR_ID', 'life_support_start_time', 'window_start', 'window_end',\n",
    "              'observed_labs_start', 'observed_labs_end']\n",
    "\n",
    "cohort_labs_48_summary = cohort_labs_48.groupBy(group_cols) \\\n",
    "                                     .agg(f.min('creatinine_max_filled').alias(\"creatinine_max_filled\"),\n",
    "                                         f.max('platelet_count_min_filled').alias(\"platelet_count_min_filled\"),\n",
    "                                         f.max('billirubin_max_filled').alias(\"billirubin_max_filled\"))\\\n",
    "                                    .distinct()\\\n",
    "                                    .orderBy(\"life_support_start_time\")\n",
    "\n",
    "cohort_labs_48_summary.show(n=40)"
   ]
  },
  {
   "cell_type": "code",
   "execution_count": null,
   "id": "f3a91b96",
   "metadata": {},
   "outputs": [],
   "source": [
    "rows= cohort_labs_48_summary.count()\n",
    "print(f\"DataFrame Rows count : {rows}\")\n",
    "\n",
    "cohort_labs_48_summary.write.parquet(\"/project2/wparker/SIPA_data/cohort_labs_48_summary.parquet\", \n",
    "                                       mode=\"overwrite\")"
   ]
  },
  {
   "cell_type": "code",
   "execution_count": null,
   "id": "8e7ad7c5",
   "metadata": {},
   "outputs": [],
   "source": []
  }
 ],
 "metadata": {
  "kernelspec": {
   "display_name": "Python 3 (ipykernel)",
   "language": "python",
   "name": "python3"
  },
  "language_info": {
   "codemirror_mode": {
    "name": "ipython",
    "version": 3
   },
   "file_extension": ".py",
   "mimetype": "text/x-python",
   "name": "python",
   "nbconvert_exporter": "python",
   "pygments_lexer": "ipython3",
   "version": "3.8.5"
  }
 },
 "nbformat": 4,
 "nbformat_minor": 5
}
