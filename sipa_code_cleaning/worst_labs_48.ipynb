{
 "cells": [
  {
   "cell_type": "code",
   "execution_count": 1,
   "id": "8c58f2cf",
   "metadata": {},
   "outputs": [
    {
     "name": "stdout",
     "output_type": "stream",
     "text": [
      "loaded libraries\n"
     ]
    },
    {
     "name": "stderr",
     "output_type": "stream",
     "text": [
      "Setting default log level to \"WARN\".\n",
      "To adjust logging level use sc.setLogLevel(newLevel). For SparkR, use setLogLevel(newLevel).\n",
      "23/11/01 14:08:16 WARN NativeCodeLoader: Unable to load native-hadoop library for your platform... using builtin-java classes where applicable\n",
      "23/11/01 14:08:17 WARN Utils: Service 'SparkUI' could not bind on port 4040. Attempting port 4041.\n"
     ]
    }
   ],
   "source": [
    "from pyspark.sql import SparkSession\n",
    "import pyspark.sql.functions as f\n",
    "from pyspark import SparkConf\n",
    "import gc\n",
    "\n",
    "\n",
    "print(\"loaded libraries\")\n",
    "spark = SparkSession.builder \\\n",
    "        .appName(\"worst labs\") \\\n",
    "        .getOrCreate()"
   ]
  },
  {
   "cell_type": "code",
   "execution_count": 2,
   "id": "9a96defb",
   "metadata": {},
   "outputs": [
    {
     "name": "stderr",
     "output_type": "stream",
     "text": [
      "\r",
      "[Stage 0:>                                                          (0 + 1) / 1]\r",
      "\r",
      "[Stage 0:===========================================================(1 + 0) / 1]\r",
      "\r",
      "                                                                                \r"
     ]
    }
   ],
   "source": [
    "labs = spark.read.parquet(\"/project2/wparker/SIPA_data/RCLIF_labs_10312023.parquet\")\n",
    "labs = labs.withColumn('lab_result_time',f.to_timestamp('lab_order_time','yyyy-MM-dd HH:mm:ss'))\n",
    "labs = labs.select('C19_HAR_ID', 'lab_result_time','lab_name', 'lab_value')\n",
    "\n",
    "select_expr = [f.regexp_replace(f.col('lab_name'), \"[\\ufeff]\", \"\").alias('lab_name')]\n",
    "labs = labs.select('C19_HAR_ID', 'lab_result_time', 'lab_value', *select_expr)\n",
    "\n",
    "select_expr = [f.regexp_replace(f.col('lab_value'), \"[\\ufeff]\", \"\").alias('lab_value')]\n",
    "labs = labs.select('C19_HAR_ID', 'lab_result_time', 'lab_name', *select_expr)\n",
    "\n",
    "select_expr = [f.regexp_replace(f.col('lab_value'), \"[<]\", \"\").alias('lab_value')]\n",
    "labs = labs.select('C19_HAR_ID', 'lab_result_time', 'lab_name', *select_expr)\n",
    "\n",
    "select_expr = [f.regexp_replace(f.col('lab_value'), \"[>]\", \"\").alias('lab_value')]\n",
    "labs = labs.select('C19_HAR_ID', 'lab_result_time', 'lab_name', *select_expr)\n",
    "labs = labs.withColumn(\"hourly_timestamp\", f.date_trunc(\"hour\", labs.lab_result_time))"
   ]
  },
  {
   "cell_type": "code",
   "execution_count": 3,
   "id": "5625d5f7",
   "metadata": {},
   "outputs": [],
   "source": [
    "cohort = spark.read.parquet(\"/project2/wparker/SIPA_data/life_support_cohort.parquet\")\n",
    "cohort = cohort.withColumn('life_support_start_time',f.to_timestamp('life_support_start','yyyy-MM-dd HH:mm:ss'))\n",
    "cohort = cohort.select('C19_HAR_ID', 'life_support_start_time')\n",
    "\n",
    "cohort = cohort.withColumn('window_start', (f.col('life_support_start_time')-f.expr(\"INTERVAL 42 HOURS\")))\n",
    "cohort = cohort.withColumn('window_end', (f.col('life_support_start_time')+f.expr(\"INTERVAL 6 HOURS\")))\n",
    "cohort_hours = cohort.withColumn('time', f.explode(f.expr('sequence(window_start, window_end, interval 1 hour)')))\n",
    "cohort_hours = cohort_hours.withColumn('time',f.to_timestamp('time','yyyy-MM-dd HH:mm:ss'))\n",
    "\n",
    "cohort_hours = cohort_hours.withColumn(\"hourly_timestamp\", f.date_trunc(\"hour\", cohort_hours.time))\n",
    "cohort_hours = cohort_hours.select('C19_HAR_ID', 'life_support_start_time', 'hourly_timestamp')"
   ]
  },
  {
   "cell_type": "code",
   "execution_count": 4,
   "id": "9b4f9153",
   "metadata": {},
   "outputs": [],
   "source": [
    "group_cols = [\"C19_HAR_ID\",\"hourly_timestamp\"]\n",
    "cohort_labs_48 = cohort_hours.join(labs, on=group_cols, how=\"left\")\n",
    "\n",
    "cohort_labs_48 = cohort_labs_48.select('C19_HAR_ID', 'life_support_start_time','hourly_timestamp', \n",
    "                                       'lab_name', 'lab_value')\n",
    "cohort_labs_48 = cohort_labs_48.withColumn(\"lab_value_num\",cohort_labs_48.lab_value.cast('double'))\n",
    "cohort_labs_48 = cohort_labs_48.filter(f.col('lab_name').isNotNull())"
   ]
  },
  {
   "cell_type": "code",
   "execution_count": 5,
   "id": "210d42a7",
   "metadata": {},
   "outputs": [
    {
     "name": "stderr",
     "output_type": "stream",
     "text": [
      "23/11/01 14:09:21 WARN SparkStringUtils: Truncated the string representation of a plan since it was too large. This behavior can be adjusted by setting 'spark.sql.debug.maxToStringFields'.\n",
      "                                                                                \r"
     ]
    }
   ],
   "source": [
    "group_cols = [\"C19_HAR_ID\", \"life_support_start_time\",\"hourly_timestamp\"]\n",
    "cohort_labs_wide = cohort_labs_48.groupBy(group_cols) \\\n",
    "                                     .pivot(\"lab_name\") \\\n",
    "                                     .agg(f.min('lab_value_num').alias(\"min\"),\n",
    "                                         f.max('lab_value_num').alias(\"max\")).orderBy(group_cols)\n",
    "cohort_labs_wide.write.parquet(\"/project2/wparker/SIPA_data/cohort_labs_48.parquet\", mode=\"overwrite\")"
   ]
  },
  {
   "cell_type": "code",
   "execution_count": 6,
   "id": "2addbcf3",
   "metadata": {},
   "outputs": [
    {
     "data": {
      "text/html": [
       "<style>pre { white-space: pre !important; }</style>"
      ],
      "text/plain": [
       "<IPython.core.display.HTML object>"
      ]
     },
     "metadata": {},
     "output_type": "display_data"
    },
    {
     "name": "stderr",
     "output_type": "stream",
     "text": [
      "                                                                                \r"
     ]
    },
    {
     "name": "stdout",
     "output_type": "stream",
     "text": [
      "DataFrame Rows count : 10479\n"
     ]
    },
    {
     "name": "stderr",
     "output_type": "stream",
     "text": [
      "                                                                                \r"
     ]
    }
   ],
   "source": [
    "group_cols = [\"C19_HAR_ID\", \"life_support_start_time\"]\n",
    "from IPython.core.display import HTML\n",
    "display(HTML(\"<style>pre { white-space: pre !important; }</style>\"))\n",
    "cohort_labs_wide_summary = cohort_labs_48.groupBy(group_cols) \\\n",
    "                                     .pivot(\"lab_name\") \\\n",
    "                                     .agg(f.min('lab_value_num').alias(\"min\"),\n",
    "                                         f.max('lab_value_num').alias(\"max\")).orderBy(\"life_support_start_time\")\n",
    "\n",
    "rows = cohort_labs_wide_summary.count()\n",
    "print(f\"DataFrame Rows count : {rows}\")\n",
    "\n",
    "cohort_labs_wide_summary.write.parquet(\"/project2/wparker/SIPA_data/cohort_labs_48_summary.parquet\", mode=\"overwrite\")"
   ]
  },
  {
   "cell_type": "code",
   "execution_count": null,
   "id": "f3a91b96",
   "metadata": {},
   "outputs": [],
   "source": []
  }
 ],
 "metadata": {
  "kernelspec": {
   "display_name": "Python 3 (ipykernel)",
   "language": "python",
   "name": "python3"
  },
  "language_info": {
   "codemirror_mode": {
    "name": "ipython",
    "version": 3
   },
   "file_extension": ".py",
   "mimetype": "text/x-python",
   "name": "python",
   "nbconvert_exporter": "python",
   "pygments_lexer": "ipython3",
   "version": "3.8.5"
  }
 },
 "nbformat": 4,
 "nbformat_minor": 5
}
