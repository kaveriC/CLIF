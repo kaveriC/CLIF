{
 "cells": [
  {
   "cell_type": "code",
   "execution_count": 4,
   "id": "8c58f2cf",
   "metadata": {},
   "outputs": [
    {
     "name": "stdout",
     "output_type": "stream",
     "text": [
      "loaded libraries\n"
     ]
    },
    {
     "name": "stderr",
     "output_type": "stream",
     "text": [
      "Setting default log level to \"WARN\".\n",
      "To adjust logging level use sc.setLogLevel(newLevel). For SparkR, use setLogLevel(newLevel).\n",
      "23/10/20 16:08:11 WARN NativeCodeLoader: Unable to load native-hadoop library for your platform... using builtin-java classes where applicable\n"
     ]
    }
   ],
   "source": [
    "from pyspark.sql import SparkSession\n",
    "import pyspark.sql.functions as f\n",
    "from pyspark import SparkConf\n",
    "import gc\n",
    "\n",
    "\n",
    "print(\"loaded libraries\")\n",
    "spark = SparkSession.builder \\\n",
    "        .appName(\"worst labs\") \\\n",
    "        .getOrCreate()"
   ]
  },
  {
   "cell_type": "code",
   "execution_count": 97,
   "id": "9a96defb",
   "metadata": {},
   "outputs": [],
   "source": [
    "labs = spark.read.parquet(\"/project2/wparker/SIPA_data/RCLIF_labs.parquet\")\n",
    "labs = labs.withColumn('lab_result_time',f.to_timestamp('lab_order_time','yyyy-MM-dd HH:mm:ss'))\n",
    "labs = labs.select('C19_HAR_ID', 'lab_result_time','lab_name', 'lab_value')\n",
    "\n",
    "select_expr = [f.regexp_replace(f.col('lab_name'), \"[\\ufeff]\", \"\").alias('lab_name')]\n",
    "labs = labs.select('C19_HAR_ID', 'lab_result_time', 'lab_value', *select_expr)\n",
    "\n",
    "select_expr = [f.regexp_replace(f.col('lab_value'), \"[\\ufeff]\", \"\").alias('lab_value')]\n",
    "labs = labs.select('C19_HAR_ID', 'lab_result_time', 'lab_name', *select_expr)"
   ]
  },
  {
   "cell_type": "code",
   "execution_count": 95,
   "id": "5625d5f7",
   "metadata": {},
   "outputs": [],
   "source": [
    "cohort = spark.read.option(\"header\",True).csv('/project2/wparker/SIPA_data/life_support_cohort.csv')\n",
    "cohort = cohort.withColumn('life_support_start_time',f.to_timestamp('life_support_start','yyyy-MM-dd HH:mm:ss'))\n",
    "cohort = cohort.select('C19_HAR_ID', 'life_support_start_time')"
   ]
  },
  {
   "cell_type": "code",
   "execution_count": 98,
   "id": "19ac2a0b",
   "metadata": {},
   "outputs": [],
   "source": [
    "cohort_labs = cohort.join(labs,'C19_HAR_ID','left')\n",
    "cohort_labs = cohort_labs.withColumn(\"hour_diff\", (f.col(\"lab_result_time\").cast(\"long\")-f.col(\"life_support_start_time\").cast(\"long\"))/(60*60))\n",
    "cohort_labs_48 = cohort_labs.filter((f.col('hour_diff')>-42)&(f.col('hour_diff')<=5))"
   ]
  },
  {
   "cell_type": "code",
   "execution_count": null,
   "id": "643ec4b7",
   "metadata": {},
   "outputs": [],
   "source": [
    "#test = cohort_labs_48.where(f.col('lab_value').like(\"%<%\") | f.col('lab_value').like(\"%>%\"))\n",
    "#group_cols = [\"lab_name\", \"lab_value\"]\n",
    "#test = test.where(~f.col('lab_value').like(\"% %\"))\n",
    "#test = test.groupBy(group_cols).count().orderBy(\"lab_name\", \"count\").show(n=100, truncate=False)"
   ]
  },
  {
   "cell_type": "code",
   "execution_count": 99,
   "id": "9b4f9153",
   "metadata": {},
   "outputs": [],
   "source": [
    "cohort_labs_48 = cohort_labs_48.withColumn('meas_hour', f.hour(f.col('lab_result_time')))\n",
    "cohort_labs_48 = cohort_labs_48.withColumn('meas_date', f.to_date(f.col('lab_result_time')))\n",
    "cohort_labs_48 = cohort_labs_48.select('C19_HAR_ID', 'life_support_start_time','meas_date',\n",
    "                                           'meas_hour', 'lab_name', 'lab_value')\n",
    "cohort_labs_48 = cohort_labs_48.withColumn(\"lab_value_num\",cohort_labs_48.lab_value.cast('double'))"
   ]
  },
  {
   "cell_type": "code",
   "execution_count": 107,
   "id": "210d42a7",
   "metadata": {},
   "outputs": [
    {
     "name": "stderr",
     "output_type": "stream",
     "text": [
      "                                                                                \r"
     ]
    }
   ],
   "source": [
    "group_cols = [\"C19_HAR_ID\", \"life_support_start_time\",\"meas_date\", \"meas_hour\"]\n",
    "cohort_labs_wide = cohort_labs_48.groupBy(group_cols) \\\n",
    "                                     .pivot(\"lab_name\") \\\n",
    "                                     .agg(f.min('lab_value_num').alias(\"min\"),\n",
    "                                         f.max('lab_value_num').alias(\"max\"))\n",
    "cohort_labs_wide.write.parquet(\"/project2/wparker/SIPA_data/cohort_labs_48.parquet\", mode=\"overwrite\")"
   ]
  },
  {
   "cell_type": "code",
   "execution_count": 106,
   "id": "2addbcf3",
   "metadata": {},
   "outputs": [
    {
     "data": {
      "text/html": [
       "<style>pre { white-space: pre !important; }</style>"
      ],
      "text/plain": [
       "<IPython.core.display.HTML object>"
      ]
     },
     "metadata": {},
     "output_type": "display_data"
    },
    {
     "name": "stderr",
     "output_type": "stream",
     "text": [
      "                                                                                \r"
     ]
    },
    {
     "name": "stdout",
     "output_type": "stream",
     "text": [
      "DataFrame Rows count : 10747\n"
     ]
    },
    {
     "name": "stderr",
     "output_type": "stream",
     "text": [
      "                                                                                \r"
     ]
    }
   ],
   "source": [
    "group_cols = [\"C19_HAR_ID\", \"life_support_start_time\"]\n",
    "from IPython.core.display import HTML\n",
    "display(HTML(\"<style>pre { white-space: pre !important; }</style>\"))\n",
    "cohort_labs_wide_summary = cohort_labs_48.groupBy(group_cols) \\\n",
    "                                     .pivot(\"lab_name\") \\\n",
    "                                     .agg(f.min('lab_value_num').alias(\"min\"),\n",
    "                                         f.max('lab_value_num').alias(\"max\")).orderBy(\"life_support_start_time\")\n",
    "\n",
    "rows = cohort_labs_wide_summary.count()\n",
    "print(f\"DataFrame Rows count : {rows}\")\n",
    "\n",
    "cohort_labs_wide_summary.write.parquet(\"/project2/wparker/SIPA_data/cohort_labs_48_summary.parquet\", mode=\"overwrite\")"
   ]
  },
  {
   "cell_type": "code",
   "execution_count": null,
   "id": "f3a91b96",
   "metadata": {},
   "outputs": [],
   "source": []
  }
 ],
 "metadata": {
  "kernelspec": {
   "display_name": "Python 3 (ipykernel)",
   "language": "python",
   "name": "python3"
  },
  "language_info": {
   "codemirror_mode": {
    "name": "ipython",
    "version": 3
   },
   "file_extension": ".py",
   "mimetype": "text/x-python",
   "name": "python",
   "nbconvert_exporter": "python",
   "pygments_lexer": "ipython3",
   "version": "3.8.5"
  }
 },
 "nbformat": 4,
 "nbformat_minor": 5
}
