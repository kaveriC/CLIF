{
 "cells": [
  {
   "cell_type": "code",
   "execution_count": 1,
   "id": "758ad813",
   "metadata": {},
   "outputs": [
    {
     "name": "stdout",
     "output_type": "stream",
     "text": [
      "loaded libraries\n"
     ]
    },
    {
     "name": "stderr",
     "output_type": "stream",
     "text": [
      "Setting default log level to \"WARN\".\n",
      "To adjust logging level use sc.setLogLevel(newLevel). For SparkR, use setLogLevel(newLevel).\n",
      "23/11/20 10:46:00 WARN NativeCodeLoader: Unable to load native-hadoop library for your platform... using builtin-java classes where applicable\n"
     ]
    }
   ],
   "source": [
    "from pyspark.sql import SparkSession\n",
    "import pyspark.sql.functions as f\n",
    "from pyspark import SparkConf\n",
    "from pyspark.sql.window import Window\n",
    "\n",
    "\n",
    "\n",
    "print(\"loaded libraries\")\n",
    "spark = SparkSession.builder \\\n",
    "        .appName(\"SOFA\") \\\n",
    "        .getOrCreate()"
   ]
  },
  {
   "cell_type": "code",
   "execution_count": 20,
   "id": "5fc7989b",
   "metadata": {},
   "outputs": [
    {
     "name": "stderr",
     "output_type": "stream",
     "text": [
      "[Stage 99:>                                                         (0 + 1) / 1]\r"
     ]
    },
    {
     "name": "stdout",
     "output_type": "stream",
     "text": [
      "+----------+----------+---------+-----------------------+-------------+-----------+-----------+-----------+-----+------------------+\n",
      "|C19_HAR_ID| meas_date|meas_hour|life_support_start_time|device_filled|fio2_filled|pao2_filled|spo2_filled|  p_f|               s_f|\n",
      "+----------+----------+---------+-----------------------+-------------+-----------+-----------+-----------+-----+------------------+\n",
      "|  10001014|2021-09-08|        1|    2021-09-09 16:00:00|         NULL|       0.21|       NULL|       NULL| NULL|              NULL|\n",
      "|  10001014|2021-09-08|        6|    2021-09-09 16:00:00|         NULL|       0.21|       NULL|      100.0| NULL| 476.1904761904762|\n",
      "|  10001014|2021-09-08|       12|    2021-09-09 16:00:00|         NULL|       0.21|       NULL|       NULL| NULL|              NULL|\n",
      "|  10001014|2021-09-08|       14|    2021-09-09 16:00:00|         NULL|       0.21|       NULL|      100.0| NULL| 476.1904761904762|\n",
      "|  10001014|2021-09-08|       17|    2021-09-09 16:00:00|         NULL|       0.21|       NULL|      100.0| NULL| 476.1904761904762|\n",
      "|  10001014|2021-09-08|       21|    2021-09-09 16:00:00|         NULL|       0.21|       NULL|       98.0| NULL| 466.6666666666667|\n",
      "|  10001014|2021-09-09|        4|    2021-09-09 16:00:00|         NULL|       0.21|       NULL|       94.0| NULL|447.61904761904765|\n",
      "|  10001014|2021-09-09|        5|    2021-09-09 16:00:00|         NULL|       0.21|       NULL|      100.0| NULL| 476.1904761904762|\n",
      "|  10001014|2021-09-09|        9|    2021-09-09 16:00:00|         NULL|       0.21|       NULL|      100.0| NULL| 476.1904761904762|\n",
      "|  10001014|2021-09-09|       10|    2021-09-09 16:00:00|         NULL|       0.21|       NULL|      100.0| NULL| 476.1904761904762|\n",
      "|  10001014|2021-09-09|       12|    2021-09-09 16:00:00|         NULL|       0.21|       NULL|      100.0| NULL| 476.1904761904762|\n",
      "|  10001014|2021-09-09|       13|    2021-09-09 16:00:00|         NULL|       0.21|       NULL|      100.0| NULL| 476.1904761904762|\n",
      "|  10001954|2021-07-21|        4|    2021-07-22 03:17:00|         NULL|       NULL|       NULL|       NULL| NULL|              NULL|\n",
      "|  10001954|2021-07-21|        6|    2021-07-22 03:17:00|         NULL|       NULL|       NULL|       NULL| NULL|              NULL|\n",
      "|  10001954|2021-07-21|        7|    2021-07-22 03:17:00|         NULL|       NULL|       NULL|       NULL| NULL|              NULL|\n",
      "|  10001954|2021-07-21|        8|    2021-07-22 03:17:00|         NULL|       NULL|       NULL|       NULL| NULL|              NULL|\n",
      "|  10001954|2021-07-21|       10|    2021-07-22 03:17:00|         NULL|       NULL|       NULL|       NULL| NULL|              NULL|\n",
      "|  10001954|2021-07-21|       13|    2021-07-22 03:17:00|         NULL|       NULL|       NULL|      100.0| NULL|              NULL|\n",
      "|  10001954|2021-07-21|       14|    2021-07-22 03:17:00|         NULL|       NULL|       NULL|      100.0| NULL|              NULL|\n",
      "|  10001954|2021-07-21|       16|    2021-07-22 03:17:00|         NULL|       NULL|       NULL|      100.0| NULL|              NULL|\n",
      "|  10001954|2021-07-21|       20|    2021-07-22 03:17:00|         NULL|       NULL|       NULL|       96.0| NULL|              NULL|\n",
      "|  10001954|2021-07-21|       21|    2021-07-22 03:17:00|         NULL|       NULL|       NULL|       97.0| NULL|              NULL|\n",
      "|  10001954|2021-07-22|        0|    2021-07-22 03:17:00|         NULL|        0.5|      115.0|      100.0|230.0|             200.0|\n",
      "|  10001954|2021-07-22|        5|    2021-07-22 03:17:00|         Vent|        0.4|       NULL|      100.0| NULL|             250.0|\n",
      "|   1000314|2020-07-02|        0|    2020-07-01 23:40:00|         Vent|        0.8|       NULL|       98.0| NULL|             122.5|\n",
      "|   1000314|2020-07-02|        2|    2020-07-01 23:40:00|         Vent|        0.8|       NULL|       92.0| NULL|             115.0|\n",
      "|   1000314|2020-07-02|        4|    2020-07-01 23:40:00|         Vent|        0.6|       NULL|       90.0| NULL|             150.0|\n",
      "|  10006462|2021-01-28|        2|    2021-01-29 17:34:00|         NULL|       NULL|       NULL|       99.0| NULL|              NULL|\n",
      "|  10006462|2021-01-28|        3|    2021-01-29 17:34:00|         NULL|       NULL|       NULL|       NULL| NULL|              NULL|\n",
      "|  10001014|2021-09-07|       23|    2021-09-09 16:00:00|         NULL|       0.21|       NULL|       NULL| NULL|              NULL|\n",
      "|  10001014|2021-09-08|        3|    2021-09-09 16:00:00|         NULL|       0.21|       NULL|      100.0| NULL| 476.1904761904762|\n",
      "|  10001014|2021-09-08|        8|    2021-09-09 16:00:00|         NULL|       0.21|       NULL|       NULL| NULL|              NULL|\n",
      "|  10001014|2021-09-08|        9|    2021-09-09 16:00:00|         NULL|       0.21|       NULL|       NULL| NULL|              NULL|\n",
      "|  10001014|2021-09-08|       11|    2021-09-09 16:00:00|         NULL|       0.21|       NULL|       NULL| NULL|              NULL|\n",
      "|  10001014|2021-09-08|       18|    2021-09-09 16:00:00|         NULL|       0.21|       NULL|       99.0| NULL|471.42857142857144|\n",
      "|  10001014|2021-09-08|       23|    2021-09-09 16:00:00|         NULL|       0.21|       NULL|      100.0| NULL| 476.1904761904762|\n",
      "|  10001014|2021-09-09|        0|    2021-09-09 16:00:00|         NULL|       0.21|       NULL|       99.0| NULL|471.42857142857144|\n",
      "|  10001014|2021-09-09|        2|    2021-09-09 16:00:00|         NULL|       0.21|       NULL|       99.0| NULL|471.42857142857144|\n",
      "|  10001014|2021-09-09|        3|    2021-09-09 16:00:00|         NULL|       0.21|       NULL|       NULL| NULL|              NULL|\n",
      "|  10001014|2021-09-09|        6|    2021-09-09 16:00:00|         NULL|       0.21|       NULL|       NULL| NULL|              NULL|\n",
      "+----------+----------+---------+-----------------------+-------------+-----------+-----------+-----------+-----+------------------+\n",
      "only showing top 40 rows\n",
      "\n"
     ]
    },
    {
     "name": "stderr",
     "output_type": "stream",
     "text": [
      "\r",
      "                                                                                \r"
     ]
    }
   ],
   "source": [
    "# Bring in worst vitals. Only need 48 hours for p/f or s/f ratio calculation\n",
    "vitals = spark.read.parquet(\"/project2/wparker/SIPA_data/cohort_vitals_48.parquet\")\n",
    "\n",
    "\n",
    "## For SOFA we just need spO2 min\n",
    "vitals_small = vitals.select('C19_HAR_ID', 'life_support_start_time', 'meas_date', 'meas_hour')\n",
    "\n",
    "pf = spark.read.parquet(\"/project2/wparker/SIPA_data/p_f_combined_filled.parquet\")\n",
    "pf = pf.select('C19_HAR_ID', 'meas_date', 'meas_hour', 'device_filled', 'fio2_filled', \n",
    "               'pao2_filled','spo2_filled', 'p_f', 's_f')\n",
    "\n",
    "group_cols = ['C19_HAR_ID', 'meas_date', 'meas_hour']\n",
    "vitals_small = vitals_small.join(pf, on=group_cols, how=\"left\")\n",
    "\n",
    "vitals_small.show(n=40)\n"
   ]
  },
  {
   "cell_type": "code",
   "execution_count": 22,
   "id": "36a16655",
   "metadata": {},
   "outputs": [
    {
     "name": "stderr",
     "output_type": "stream",
     "text": [
      "23/11/20 10:38:27 WARN RowBasedKeyValueBatch: Calling spill() on RowBasedKeyValueBatch. Will not spill but return 0.\n",
      "23/11/20 10:38:27 WARN RowBasedKeyValueBatch: Calling spill() on RowBasedKeyValueBatch. Will not spill but return 0.\n",
      "[Stage 104:======================================>                  (2 + 1) / 3]\r"
     ]
    },
    {
     "name": "stdout",
     "output_type": "stream",
     "text": [
      "+----------+-----------------------+--------+--------+--------+------------------+------------------+-----------+-------------+\n",
      "|C19_HAR_ID|life_support_start_time|min_spO2|min_pao2|min_fio2|            min_PF|            min_SF|device_rank|   max_device|\n",
      "+----------+-----------------------+--------+--------+--------+------------------+------------------+-----------+-------------+\n",
      "|  10309411|    2022-03-01 06:54:00|    NULL|    NULL|    NULL|              NULL|              NULL|       NULL|         NULL|\n",
      "|  10844597|    2020-12-18 17:10:00|    85.0|    53.0|     1.0|              53.0|              85.0|          1|         Vent|\n",
      "|  10847878|    2021-06-11 05:58:00|    89.0|    49.0|    0.21|             137.5|             125.0|          1|         Vent|\n",
      "|  11138178|    2021-05-20 18:45:00|    94.0|   138.0|    0.28|             276.0|             196.0|          1|         Vent|\n",
      "|  11547979|    2020-08-27 13:00:00|    75.0|    NULL|     0.6|              NULL|              81.0|          1|         Vent|\n",
      "|   1156164|    2020-06-19 13:41:00|    94.0|    62.0|    0.21|             124.0|             198.0|       NULL|         NULL|\n",
      "|  11610026|    2021-12-27 12:45:00|    91.0|    NULL|    0.21|              NULL|433.33333333333337|       NULL|         NULL|\n",
      "|  11786184|    2021-02-16 03:42:00|    91.0|    NULL|    0.21|              NULL| 452.3809523809524|       NULL|         NULL|\n",
      "|  12092433|    2021-09-01 16:57:00|    92.0|    NULL|     0.3|              NULL| 306.6666666666667|       NULL|         NULL|\n",
      "|    125885|    2020-09-13 05:05:00|    94.0|    NULL|    NULL|              NULL|              NULL|       NULL|         NULL|\n",
      "|  13328807|    2021-04-11 02:23:00|    95.0|    NULL|     0.8|              NULL|              95.0|          1|         Vent|\n",
      "|  14069516|    2020-05-14 22:59:00|    93.0|    82.0|    0.21|             164.0|             186.0|          2|        NIPPV|\n",
      "|  14319619|    2021-04-28 17:04:00|    84.0|    NULL|    0.21|              NULL|             210.0|          2|        NIPPV|\n",
      "|  14664627|    2022-02-28 16:01:00|    90.0|    NULL|     1.0|              NULL|              90.0|          1|         Vent|\n",
      "|  14980957|    2021-06-06 08:50:00|    98.0|    NULL|    0.21|              NULL|227.27272727272728|          6|Nasal Cannula|\n",
      "|  15528964|    2021-01-29 09:49:00|    98.0|   165.0|    0.21|458.33333333333337|             247.5|          6|Nasal Cannula|\n",
      "|  17359028|    2022-03-23 03:15:00|    97.0|   108.0|    0.21|             216.0|161.66666666666669|          6|Nasal Cannula|\n",
      "|  17372950|    2021-04-30 03:18:00|    94.0|    NULL|    NULL|              NULL|              NULL|       NULL|         NULL|\n",
      "|  17538175|    2022-02-17 18:02:00|    93.0|    NULL|    0.21|              NULL|211.36363636363637|          6|Nasal Cannula|\n",
      "|  17752680|    2021-10-28 20:00:00|    98.0|   201.0|    0.35|             502.5|             245.0|          1|         Vent|\n",
      "|  17804276|    2021-05-31 19:15:00|    79.0|    NULL|     0.4|              NULL|197.91666666666669|          6|Nasal Cannula|\n",
      "|  17833929|    2021-08-20 09:15:00|    98.0|   180.0|    0.36|             450.0|             200.0|          6|Nasal Cannula|\n",
      "|  17879209|    2020-11-23 01:56:00|    95.0|    NULL|    0.21|              NULL| 452.3809523809524|       NULL|         NULL|\n",
      "|  18934944|    2021-04-07 03:00:00|    84.0|    NULL|    0.21|              NULL| 321.4285714285714|          2|        NIPPV|\n",
      "|  20301998|    2020-06-18 20:37:00|    92.0|    NULL|     0.4|              NULL|             230.0|          2|        NIPPV|\n",
      "|  20508016|    2021-04-01 10:25:00|    NULL|    NULL|    NULL|              NULL|              NULL|       NULL|         NULL|\n",
      "|  21185349|    2021-11-24 16:05:00|    94.0|    NULL|     0.6|              NULL|              94.0|          1|         Vent|\n",
      "|   2163381|    2020-08-12 06:10:00|    74.0|   132.0|    0.21|             264.0|             200.0|          2|        NIPPV|\n",
      "|  22417436|    2021-06-02 06:15:00|    NULL|    NULL|    NULL|              NULL|              NULL|       NULL|         NULL|\n",
      "|  22734971|    2020-10-06 10:50:00|    92.0|    NULL|    NULL|              NULL|              NULL|       NULL|         NULL|\n",
      "|  22835158|    2020-06-07 21:10:00|    94.0|    NULL|    NULL|              NULL|              NULL|       NULL|         NULL|\n",
      "|  23804843|    2022-03-11 22:44:00|    88.0|    NULL|    0.21|              NULL|             200.0|          6|Nasal Cannula|\n",
      "|  23929230|    2021-11-24 06:01:00|    NULL|    NULL|    NULL|              NULL|              NULL|       NULL|         NULL|\n",
      "|  24394041|    2021-06-04 02:53:00|    98.0|    87.0|     0.5|             174.0|             200.0|          1|         Vent|\n",
      "|  24420515|    2021-03-27 20:30:00|    88.0|    NULL|    0.35|              NULL| 262.8571428571429|          2|        NIPPV|\n",
      "|   2446221|    2022-02-02 06:15:00|    95.0|    NULL|    NULL|              NULL|              NULL|       NULL|         NULL|\n",
      "|   2498089|    2022-02-25 06:13:00|    94.0|    NULL|    NULL|              NULL|              NULL|       NULL|         NULL|\n",
      "|  25717553|    2021-07-07 19:19:00|    90.0|    NULL|    0.21|              NULL| 428.5714285714286|          2|        NIPPV|\n",
      "|  26068946|    2022-01-16 08:58:00|    93.0|    NULL|    0.21|              NULL| 442.8571428571429|       NULL|         NULL|\n",
      "|  27393559|    2021-07-31 04:00:00|    80.0|    34.0|    0.21|              68.0|             166.0|          6|Nasal Cannula|\n",
      "+----------+-----------------------+--------+--------+--------+------------------+------------------+-----------+-------------+\n",
      "only showing top 40 rows\n",
      "\n"
     ]
    },
    {
     "name": "stderr",
     "output_type": "stream",
     "text": [
      "\r",
      "                                                                                \r"
     ]
    }
   ],
   "source": [
    "# Calculate p/f or s/f ratios\n",
    "\n",
    "group_cols = [\"C19_HAR_ID\", 'life_support_start_time']\n",
    "\n",
    "vitals_small = vitals_small.withColumn(\"device_rank\", f.expr(\n",
    "        \"\"\"\n",
    "        CASE\n",
    "        WHEN device_filled == 'Vent' THEN 1\n",
    "        WHEN device_filled == 'NIPPV' THEN 2\n",
    "        WHEN device_filled == 'High Flow NC' THEN 3\n",
    "        WHEN device_filled == 'Face Mask' THEN 4 \n",
    "        WHEN device_filled == 'Trach Collar' THEN 5\n",
    "        WHEN device_filled == 'Nasal Cannula' THEN 6 \n",
    "        ELSE NULL\n",
    "        END\n",
    "        \"\"\"\n",
    "    ))\n",
    "\n",
    "\n",
    "df_group = vitals_small.groupBy(group_cols) \\\n",
    "        .agg(f.min('spO2_filled').alias('min_spO2'),\n",
    "             f.min('pao2_filled').alias('min_pao2'),\n",
    "             f.max('fio2_filled').alias('max_fio2'),\n",
    "             f.min('p_f').alias('min_PF'),\n",
    "             f.min('s_f').alias('min_SF'),\n",
    "             f.max('device_rank').alias('device_rank'))\n",
    "\n",
    "df_group = df_group.withColumn(\"max_device\", f.expr(\n",
    "        \"\"\"\n",
    "        CASE\n",
    "        WHEN device_rank == '1' THEN 'Vent'\n",
    "        WHEN device_rank == '2' THEN 'NIPPV'\n",
    "        WHEN device_rank == '3' THEN 'High Flow NC'\n",
    "        WHEN device_rank == '4' THEN 'Face Mask'\n",
    "        WHEN device_rank == '5' THEN 'Trach Collar'\n",
    "        WHEN device_rank == '6' THEN 'Nasal Cannula' \n",
    "        ELSE NULL\n",
    "        END\n",
    "        \"\"\"\n",
    "    ))\n",
    "df_group.show(n=40)"
   ]
  },
  {
   "cell_type": "code",
   "execution_count": 23,
   "id": "dd13cb39",
   "metadata": {},
   "outputs": [],
   "source": [
    "labs_sum = spark.read.parquet(\"/project2/wparker/SIPA_data/cohort_labs_48_summary.parquet\")\n",
    "labs_sum = labs_sum.select('C19_HAR_ID', 'life_support_start_time', 'observed_labs_start', \n",
    "                            'observed_labs_end', 'billirubin_max_filled',\n",
    "                         'platelet_count_min_filled', 'creatinine_max_filled')\n",
    "\n",
    "vitals_sum = spark.read.parquet(\"/project2/wparker/SIPA_data/cohort_vitals_48_summary.parquet\")\n",
    "vitals_sum = vitals_sum.select('C19_HAR_ID', 'life_support_start_time', 'window_start', 'window_end',\n",
    "              'observed_vitals_start', 'observed_vitals_end', 'MAP_for_sofa','weight_filled', 'height_filled')"
   ]
  },
  {
   "cell_type": "code",
   "execution_count": 24,
   "id": "10f713d8",
   "metadata": {},
   "outputs": [],
   "source": [
    "df_group = df_group.repartition('C19_HAR_ID')\n",
    "labs_sum = labs_sum.repartition('C19_HAR_ID')\n",
    "vitals_sum = vitals_sum.repartition('C19_HAR_ID')\n",
    "\n",
    "\n",
    "df_group = df_group.join(labs_sum, on=group_cols, how=\"full\")\n",
    "df_group_2 = df_group.join(vitals_sum, on=group_cols, how=\"full\")\n"
   ]
  },
  {
   "cell_type": "code",
   "execution_count": 25,
   "id": "430e685b",
   "metadata": {},
   "outputs": [],
   "source": [
    "cohort = spark.read.parquet(\"/project2/wparker/SIPA_data/life_support_cohort.parquet\")\n",
    "cohort = cohort.select('C19_HAR_ID', 'C19_PATIENT_ID', 'adm_date', 'life_support_start', 'disposition_name',\n",
    "                'sex', 'age_at_adm')\n",
    "cohort = cohort.withColumnRenamed('life_support_start', 'life_support_start_time')\n",
    "index_times = cohort.select('C19_HAR_ID', 'life_support_start_time')\n",
    "\n",
    "\n",
    "df_group_3 = cohort.join(df_group_2, on=group_cols, how=\"left\")\n"
   ]
  },
  {
   "cell_type": "code",
   "execution_count": 26,
   "id": "e0fa6bc7",
   "metadata": {},
   "outputs": [],
   "source": [
    "df_meds = spark.read.option(\"header\",True).csv('/project2/wparker/SIPA_data/RCLIF_meds_admin_conti.csv')\n",
    "df_meds = df_meds.withColumn('admin_time',f.to_timestamp('admin_time','yyyy-MM-dd HH:mm:ss'))\n",
    "\n",
    "pressors = df_meds.filter(((f.col('med_name')=='phenylephrine') | \n",
    "                       (f.col('med_name')=='epinephrine') | \n",
    "                       (f.col('med_name')=='vasopressin') | \n",
    "                       (f.col('med_name')=='dopamine') |\n",
    "                       (f.col('med_name')=='dobutamine') |\n",
    "                       (f.col('med_name')=='norepinephrine') |\n",
    "                       (f.col('med_name')=='angiotensin') |\n",
    "                       (f.col('med_name')=='isoproterenol')))\n",
    "pressors = pressors.select(\"C19_HAR_ID\", \"admin_time\",'med_name').distinct()\n",
    "\n",
    "cohort_pressors = index_times.join(pressors,'C19_HAR_ID','left')\n",
    "cohort_pressors = cohort_pressors.withColumn(\"hour_diff\", (f.col(\"admin_time\").cast(\"long\")-f.col(\"life_support_start_time\").cast(\"long\"))/(60*60))\n",
    "cohort_pressors_48 = cohort_pressors.filter((f.col('hour_diff')>-42)&(f.col('hour_diff')<=5))\n",
    "cohort_pressors_48 = cohort_pressors_48.withColumn('meas_hour', f.hour(f.col('admin_time')))\n",
    "cohort_pressors_48 = cohort_pressors_48.withColumn('meas_date', f.to_date(f.col('admin_time')))\n",
    "\n",
    "cohort_pressors_48 = cohort_pressors_48.select('C19_HAR_ID','meas_hour','meas_date', 'med_name').distinct()\n",
    "\n",
    "group_cols = ['C19_HAR_ID','meas_hour','meas_date', 'med_name']\n",
    "\n",
    "w2 = Window.partitionBy(group_cols).orderBy(\"med_name\")\n",
    "\n",
    "cohort_pressors_grouped = cohort_pressors_48.withColumn(\"row\",f.row_number().over(w2))\n",
    "cohort_pressors_grouped = cohort_pressors_grouped.withColumn(\"dobutamine_alone\", f.expr(\n",
    "        \"\"\"\n",
    "        CASE\n",
    "        WHEN med_name == 'dobutamine' THEN 1\n",
    "        ELSE 0\n",
    "        END\n",
    "        \"\"\"\n",
    "    ))\n",
    "\n",
    "group_cols = ['C19_HAR_ID','meas_hour','meas_date', 'dobutamine_alone']\n",
    "\n",
    "cohort_pressors_grouped = cohort_pressors_grouped.groupBy(group_cols) \\\n",
    "                                            .agg(f.count('med_name').alias('num_pressors'))\n",
    "\n",
    "cohort_pressors_grouped = cohort_pressors_grouped.groupBy('C19_HAR_ID') \\\n",
    "                                                 .agg((f.min('dobutamine_alone').alias('min_dobutamine_alone')),\n",
    "                                                     (f.max('num_pressors').alias('max_num_pressors')))\n",
    "                                                      \n",
    "df_group_4 = df_group_3.join(cohort_pressors_grouped, on='C19_HAR_ID', how=\"left\")"
   ]
  },
  {
   "cell_type": "code",
   "execution_count": 27,
   "id": "26bed073",
   "metadata": {},
   "outputs": [
    {
     "data": {
      "text/html": [
       "<style>pre { white-space: pre !important; }</style>"
      ],
      "text/plain": [
       "<IPython.core.display.HTML object>"
      ]
     },
     "metadata": {},
     "output_type": "display_data"
    }
   ],
   "source": [
    "from IPython.core.display import HTML\n",
    "display(HTML(\"<style>pre { white-space: pre !important; }</style>\"))\n",
    "\n",
    "scores = spark.read.option(\"header\",True).csv('/project2/wparker/SIPA_data/RCLIF_scores_10192023.csv')\n",
    "scores = scores.withColumn('score_time',f.to_timestamp('score_time','yyyy-MM-dd HH:mm:ss'))\n",
    "\n",
    "cohort_scores = index_times.join(scores,'C19_HAR_ID','left')\n",
    "cohort_scores = cohort_scores.withColumn(\"hour_diff\", (f.col(\"score_time\").cast(\"long\")-f.col(\"life_support_start_time\").cast(\"long\"))/(60*60))\n",
    "cohort_scores_48 = cohort_scores.filter((f.col('hour_diff')>-42)&(f.col('hour_diff')<=5))\n",
    "\n",
    "\n",
    "cohort_scores_48 = cohort_scores_48.select('C19_HAR_ID', 'score_name', 'score_value') \\\n",
    "                .distinct() \\\n",
    "                .filter(f.col('score_name')=='NUR RA GLASGOW ADULT SCORING')\n",
    "\n",
    "\n",
    "scores_grouped = cohort_scores_48.groupBy('C19_HAR_ID') \\\n",
    "                                 .agg(f.min('score_value').alias('min_GCS_total'))\n",
    "df_group_5 = df_group_4.join(scores_grouped, on='C19_HAR_ID', how=\"left\")"
   ]
  },
  {
   "cell_type": "code",
   "execution_count": 28,
   "id": "b306439f",
   "metadata": {},
   "outputs": [],
   "source": [
    "dialysis = spark.read.option(\"header\",True).csv('/project2/wparker/SIPA_data/RCLIF_dialysis_flag_only.csv')\n",
    "dialysis = dialysis.withColumn('recorded_time',f.to_timestamp('recorded_time','yyyy-MM-dd HH:mm:ss'))\n",
    "\n",
    "cohort_dialysis = index_times.join(dialysis,'C19_HAR_ID','left')\n",
    "cohort_dialysis = cohort_dialysis.withColumn(\"hour_diff\", (f.col(\"recorded_time\").cast(\"long\")-f.col(\"life_support_start_time\").cast(\"long\"))/(60*60))\n",
    "cohort_dialysis_48 = cohort_dialysis.filter((f.col('hour_diff')>-42)&(f.col('hour_diff')<=5))\n",
    "\n",
    "dialysis_grouped = cohort_dialysis_48.groupBy('C19_HAR_ID') \\\n",
    "                        .agg(f.max('on_dialysis').alias('on_dialysis'))\n",
    "df_group_6 = df_group_5.join(dialysis_grouped, on='C19_HAR_ID', how=\"left\")\n"
   ]
  },
  {
   "cell_type": "code",
   "execution_count": 30,
   "id": "18e156e1",
   "metadata": {},
   "outputs": [
    {
     "name": "stderr",
     "output_type": "stream",
     "text": [
      "23/11/20 10:41:00 WARN RowBasedKeyValueBatch: Calling spill() on RowBasedKeyValueBatch. Will not spill but return 0.\n",
      "23/11/20 10:41:00 WARN RowBasedKeyValueBatch: Calling spill() on RowBasedKeyValueBatch. Will not spill but return 0.\n",
      "23/11/20 10:41:04 WARN RowBasedKeyValueBatch: Calling spill() on RowBasedKeyValueBatch. Will not spill but return 0.\n",
      "23/11/20 10:41:04 WARN RowBasedKeyValueBatch: Calling spill() on RowBasedKeyValueBatch. Will not spill but return 0.\n",
      "                                                                                \r"
     ]
    },
    {
     "name": "stdout",
     "output_type": "stream",
     "text": [
      "+----------+-----------------------+--------------+----------+--------------------+------+----------+--------+--------+--------+------------------+------------------+-----------+-------------+-------------------+-------------------+---------------------+-------------------------+---------------------+-------------------+-------------------+---------------------+-------------------+-----------------+-------------+-------------+--------------------+----------------+-------------+-----------+-------+---------+----------+----------+------------+------------+---------+--------+\n",
      "|C19_HAR_ID|life_support_start_time|C19_PATIENT_ID|  adm_date|    disposition_name|   sex|age_at_adm|min_spO2|min_pao2|min_fio2|            min_PF|            min_SF|device_rank|   max_device|observed_labs_start|  observed_labs_end|billirubin_max_filled|platelet_count_min_filled|creatinine_max_filled|       window_start|         window_end|observed_vitals_start|observed_vitals_end|     MAP_for_sofa|weight_filled|height_filled|min_dobutamine_alone|max_num_pressors|min_GCS_total|on_dialysis|sofa_cv|sofa_coag|sofa_liver|sofa_renal|sofa_resp_pf|sofa_resp_sf|sofa_resp|sofa_cns|\n",
      "+----------+-----------------------+--------------+----------+--------------------+------+----------+--------+--------+--------+------------------+------------------+-----------+-------------+-------------------+-------------------+---------------------+-------------------------+---------------------+-------------------+-------------------+---------------------+-------------------+-----------------+-------------+-------------+--------------------+----------------+-------------+-----------+-------+---------+----------+----------+------------+------------+---------+--------+\n",
      "|   1156164|    2020-06-19 13:41:00|       1615123|2020-06-18|Discharged to ano...|  Male|      73.0|    94.0|    62.0|    0.21|             124.0|             198.0|       NULL|         NULL|2020-06-18 23:47:00|2020-07-09 19:15:00|                  0.4|                    241.0|                  1.8|2020-06-17 19:41:00|2020-06-19 19:41:00|  2020-06-18 23:54:00|2020-07-10 06:35:00|             43.0|         NULL|         NULL|                   0|               1|           12|       NULL|      2|        0|         0|         1|        NULL|        NULL|     NULL|       2|\n",
      "|   8656976|    2020-10-19 16:26:00|        214772|2020-10-19|                Home|  Male|      70.0|   100.0|    NULL|     0.3|              NULL|333.33333333333337|          1|         Vent|2020-10-19 16:32:00|2020-11-06 18:15:00|                  0.6|                     22.0|                  2.9|2020-10-17 22:26:00|2020-10-19 22:26:00|  2020-10-19 16:25:00|2020-11-07 10:30:00|             74.0|         NULL|         NULL|                NULL|            NULL|           11|          1|      0|        3|         0|         2|        NULL|           1|        1|       2|\n",
      "|  18934944|    2021-04-07 03:00:00|       3343832|2021-04-05|                Home|  Male|      62.0|    84.0|    NULL|    0.21|              NULL| 321.4285714285714|          2|        NIPPV|2021-04-05 06:00:00|2021-04-12 19:15:00|                  0.5|                    108.0|                  0.9|2021-04-05 09:00:00|2021-04-07 09:00:00|  2021-04-05 11:00:00|2021-04-13 07:18:00|             70.0|      3996.82|         NULL|                NULL|            NULL|           15|       NULL|      0|        1|         0|         0|        NULL|           1|        1|       0|\n",
      "|  20508016|    2021-04-01 10:25:00|       3052760|2021-04-01|                Home|Female|      43.0|    NULL|    NULL|    NULL|              NULL|              NULL|       NULL|         NULL|2021-04-01 10:32:00|2021-04-01 10:32:00|                 NULL|                     NULL|                 NULL|2021-03-30 16:25:00|2021-04-01 16:25:00|  2021-04-01 10:22:00|2021-04-01 14:31:00|             78.0|         NULL|         NULL|                NULL|            NULL|            3|       NULL|      0|     NULL|      NULL|      NULL|        NULL|        NULL|     NULL|       4|\n",
      "|   3590013|    2021-08-22 23:09:00|       3204539|2021-08-22|                Dead|  Male|      22.0|    99.0|    NULL|    0.45|              NULL|             125.0|          1|         Vent|2021-08-22 19:47:00|2021-08-28 04:44:00|                  1.2|                     68.0|                  1.2|2021-08-21 05:09:00|2021-08-23 05:09:00|  2021-08-22 19:53:00|2021-08-28 03:00:00|             41.0|      2469.15|         69.0|                   0|               1|            3|       NULL|      2|        2|         1|         1|        NULL|           4|        4|       4|\n",
      "|  14980957|    2021-06-06 08:50:00|       3695774|2021-06-06|                Home|Female|      50.0|    98.0|    NULL|    0.21|              NULL|227.27272727272728|          6|Nasal Cannula|2021-06-06 06:58:00|2021-06-10 19:15:00|                  0.2|                    238.0|                  0.7|2021-06-04 14:50:00|2021-06-06 14:50:00|  2021-06-06 06:52:00|2021-06-11 07:30:00|             76.0|       6432.0|         NULL|                NULL|            NULL|         NULL|       NULL|      0|        0|         0|         0|        NULL|           3|        3|    NULL|\n",
      "|   3932905|    2021-03-05 15:57:00|       2135553|2021-03-04|Discharged to ano...|  Male|      71.0|    94.0|    NULL|    0.36|              NULL|             194.0|          6|Nasal Cannula|2021-03-05 04:50:00|2021-03-14 19:15:00|                 NULL|                    289.0|                  1.6|2021-03-03 21:57:00|2021-03-05 21:57:00|  2021-03-05 00:42:00|2021-03-17 06:40:00|             61.0|       2720.0|         NULL|                NULL|            NULL|           10|       NULL|      1|        0|      NULL|         1|        NULL|           3|        3|       2|\n",
      "|    479138|    2020-08-03 06:40:00|        363578|2020-08-03|                Home|  Male|      81.0|    NULL|    NULL|    NULL|              NULL|              NULL|       NULL|         NULL|               NULL|               NULL|                 NULL|                     NULL|                 NULL|2020-08-01 12:40:00|2020-08-03 12:40:00|  2020-08-03 03:52:00|2020-08-03 09:45:00|             96.0|       2592.0|         65.0|                   0|               1|         NULL|       NULL|      2|        0|         0|         0|        NULL|        NULL|     NULL|    NULL|\n",
      "|   4109199|    2020-07-24 17:00:00|       3248791|2020-07-20|                Dead|  Male|      87.0|    87.0|    78.0|    0.21|191.66666666666669|            181.25|          6|Nasal Cannula|2020-07-17 09:34:00|2020-07-29 07:00:00|                  2.2|                      8.0|                  1.3|2020-07-22 23:00:00|2020-07-24 23:00:00|  2020-07-20 04:58:00|2020-07-30 18:28:00|             52.0|      2176.38|         NULL|                NULL|            NULL|           15|       NULL|      1|        4|         2|         1|           3|           3|        3|       0|\n",
      "|    125885|    2020-09-13 05:05:00|       2924047|2020-09-11|                Home|  Male|      58.0|    94.0|    NULL|    NULL|              NULL|              NULL|       NULL|         NULL|2020-09-11 20:51:00|2020-09-15 19:15:00|                 NULL|                    274.0|                  1.1|2020-09-11 11:05:00|2020-09-13 11:05:00|  2020-09-11 18:07:00|2020-09-16 07:27:00|             88.0|       2272.0|         68.0|                   0|               1|           15|       NULL|      2|        0|      NULL|         0|        NULL|        NULL|     NULL|       0|\n",
      "|  23929230|    2021-11-24 06:01:00|        521435|2021-11-24|                Home|Female|      64.0|    NULL|    NULL|    NULL|              NULL|              NULL|       NULL|         NULL|               NULL|               NULL|                 NULL|                     NULL|                 NULL|2021-11-22 12:01:00|2021-11-24 12:01:00|  2021-11-24 04:13:00|2021-11-24 10:30:00|             69.0|       2704.0|         63.0|                   0|               1|         NULL|       NULL|      2|        0|         0|         0|        NULL|        NULL|     NULL|    NULL|\n",
      "|  28161551|    2020-10-27 08:50:00|        354380|2020-10-26|                Home|Female|      74.0|    94.0|    NULL|    NULL|              NULL|              NULL|       NULL|         NULL|               NULL|               NULL|                 NULL|                     NULL|                 NULL|2020-10-25 14:50:00|2020-10-27 14:50:00|  2020-10-27 06:39:00|2020-10-28 11:43:00|             66.0|       4000.0|         64.5|                   0|               1|         NULL|       NULL|      2|        0|         0|         0|        NULL|        NULL|     NULL|    NULL|\n",
      "|  28175279|    2021-12-09 19:00:00|        528060|2021-12-09|                Home|Female|      39.0|   100.0|    NULL|     0.4|              NULL|             250.0|          2|        NIPPV|2021-12-09 18:46:00|2021-12-10 18:15:00|                 NULL|                    386.0|                  0.8|2021-12-08 01:00:00|2021-12-10 01:00:00|  2021-12-09 18:46:00|2021-12-11 03:11:00|             86.0|      3985.92|         NULL|                NULL|            NULL|           15|       NULL|      0|        0|      NULL|         0|        NULL|           2|        2|       0|\n",
      "|    968983|    2021-08-23 05:40:00|       2460638|2021-08-23|Discharged to ano...|Female|      67.0|    90.0|    NULL|     0.6|              NULL|              90.0|          1|         Vent|2021-08-23 05:56:00|2021-09-06 02:21:00|                 NULL|                     NULL|                  6.7|2021-08-21 11:40:00|2021-08-23 11:40:00|  2021-08-23 05:39:00|2021-09-07 11:12:00|             67.0|         NULL|         NULL|                NULL|            NULL|            3|          1|      1|     NULL|      NULL|         4|        NULL|           4|        4|       4|\n",
      "|   5478372|    2021-03-06 12:55:00|       1628712|2021-03-06|                Dead|Female|      82.0|    91.0|    NULL|     0.3|              NULL|              91.0|          2|        NIPPV|2021-03-06 10:12:00|2021-03-15 00:31:00|                  1.6|                    206.0|                  2.2|2021-03-04 18:55:00|2021-03-06 18:55:00|  2021-03-06 10:02:00|2021-03-15 04:54:00|             47.0|       3408.0|         NULL|                NULL|            NULL|           15|       NULL|      1|        0|         1|         2|        NULL|           4|        4|       0|\n",
      "|  22734971|    2020-10-06 10:50:00|        116428|2020-10-04|                Home|  Male|      58.0|    92.0|    NULL|    NULL|              NULL|              NULL|       NULL|         NULL|2020-10-04 03:53:00|2020-10-13 16:15:00|                  0.7|                    275.0|                  1.4|2020-10-04 16:50:00|2020-10-06 16:50:00|  2020-10-04 03:30:00|2020-10-14 03:34:00|             79.0|      3964.75|         72.0|                   1|               1|           15|       NULL|      2|        0|         0|         1|        NULL|        NULL|     NULL|       0|\n",
      "|  14069516|    2020-05-14 22:59:00|       3907915|2020-05-14|                Home|Female|      68.0|    93.0|    82.0|    0.21|             164.0|             186.0|          2|        NIPPV|2020-05-14 11:30:00|2020-05-21 19:15:00|                  0.3|                    273.0|                  1.0|2020-05-13 04:59:00|2020-05-15 04:59:00|  2020-05-14 10:18:00|2020-05-22 06:40:00|             77.0|       2208.0|         NULL|                NULL|            NULL|           13|       NULL|      0|        0|         0|         0|           3|           3|        3|       1|\n",
      "|  24420515|    2021-03-27 20:30:00|       2651773|2021-03-24|                Home|  Male|      58.0|    88.0|    NULL|    0.35|              NULL| 262.8571428571429|          2|        NIPPV|2021-03-24 19:16:00|2021-03-31 19:15:00|                  1.0|                    345.0|                  1.2|2021-03-26 02:30:00|2021-03-28 02:30:00|  2021-03-24 17:38:00|2021-04-01 04:28:00|             76.0|       2795.2|         NULL|                NULL|            NULL|           15|       NULL|      0|        0|         0|         1|        NULL|           2|        2|       0|\n",
      "|  10309411|    2022-03-01 06:54:00|       3167004|2022-03-01|                Home|Female|      60.0|    NULL|    NULL|    NULL|              NULL|              NULL|       NULL|         NULL|               NULL|               NULL|                 NULL|                     NULL|                 NULL|2022-02-27 12:54:00|2022-03-01 12:54:00|  2022-03-01 03:51:00|2022-03-01 09:15:00|             97.0|      2574.97|         NULL|                   0|               1|         NULL|       NULL|      2|        0|         0|         0|        NULL|        NULL|     NULL|    NULL|\n",
      "|  22835158|    2020-06-07 21:10:00|       2308457|2020-06-07|                Home|  Male|      42.0|    94.0|    NULL|    NULL|              NULL|              NULL|       NULL|         NULL|2020-06-07 05:54:00|2020-06-07 19:15:00|                 NULL|                    370.0|                 NULL|2020-06-06 03:10:00|2020-06-08 03:10:00|  2020-06-07 05:42:00|2020-06-08 10:39:00|             85.0|         NULL|         NULL|                NULL|            NULL|           15|       NULL|      0|        0|      NULL|      NULL|        NULL|        NULL|     NULL|       0|\n",
      "|   3462893|    2021-08-21 14:58:00|        342389|2021-08-21|                Dead|  Male|      32.0|    95.0|    98.0|     0.3| 326.6666666666667|             245.0|          1|         Vent|2021-08-21 14:28:00|2021-08-27 23:57:00|                 14.0|                    132.0|                  2.1|2021-08-19 20:58:00|2021-08-21 20:58:00|  2021-08-21 14:00:00|2021-08-28 08:26:00|             71.0|      2370.39|         67.0|                NULL|            NULL|            9|       NULL|      0|        1|         4|         2|           1|           2|        1|       3|\n",
      "|  17538175|    2022-02-17 18:02:00|       3847491|2022-02-17|                Home|  Male|      68.0|    93.0|    NULL|    0.21|              NULL|211.36363636363637|          6|Nasal Cannula|2022-02-17 10:07:00|2022-02-22 06:51:00|                 NULL|                    155.0|                 0.97|2022-02-16 00:02:00|2022-02-18 00:02:00|  2022-02-17 09:54:00|2022-02-22 09:55:00|             93.0|       3520.0|         NULL|                NULL|            NULL|           15|       NULL|      0|        0|      NULL|         0|        NULL|           3|        3|       0|\n",
      "|   8703010|    2020-12-30 19:00:00|        531444|2020-12-30|                Home|  Male|      73.0|    83.0|    NULL|     0.6|              NULL|135.71428571428572|          3| High Flow NC|2020-12-30 04:26:00|2021-01-02 18:15:00|                 NULL|                    218.0|                  1.0|2020-12-29 01:00:00|2020-12-31 01:00:00|  2020-12-30 03:59:00|2021-01-03 09:12:00|             72.0|         NULL|         NULL|                NULL|            NULL|           15|       NULL|      0|        0|      NULL|         0|        NULL|           4|        4|       0|\n",
      "|   8361731|    2021-08-25 04:05:00|        460434|2021-08-25|                Home|  Male|      43.0|    97.0|    NULL|    NULL|              NULL|              NULL|       NULL|         NULL|2021-08-25 05:49:00|2021-08-25 19:15:00|                  0.7|                    243.0|                  1.6|2021-08-23 10:05:00|2021-08-25 10:05:00|  2021-08-25 01:56:00|2021-08-26 07:05:00|             62.0|       3536.0|       72.992|                   0|               1|         NULL|       NULL|      2|        0|         0|         1|        NULL|        NULL|     NULL|    NULL|\n",
      "|  27393559|    2021-07-31 04:00:00|         35885|2021-07-29|                Home|Female|      61.0|    80.0|    34.0|    0.21|              68.0|             166.0|          6|Nasal Cannula|2021-07-29 03:57:00|2021-08-07 07:00:00|                  0.6|                    257.0|                  0.9|2021-07-29 10:00:00|2021-07-31 10:00:00|  2021-07-29 10:13:00|2021-08-07 11:37:00|             78.0|         NULL|         NULL|                NULL|            NULL|           15|       NULL|      0|        0|         0|         0|           4|           3|        4|       0|\n",
      "|  14319619|    2021-04-28 17:04:00|       1962216|2021-04-28|                Dead|Female|      69.0|    84.0|    NULL|    0.21|              NULL|             210.0|          2|        NIPPV|2021-04-28 16:56:00|2021-05-22 01:02:00|                 NULL|                    358.0|                 NULL|2021-04-26 23:04:00|2021-04-28 23:04:00|  2021-04-28 16:48:00|2021-05-22 08:00:00|             72.0|      2821.89|         NULL|                NULL|            NULL|           14|          1|      0|        0|      NULL|         4|        NULL|           3|        3|       1|\n",
      "|  17372950|    2021-04-30 03:18:00|       2826954|2021-04-30|                Home|  Male|      58.0|    94.0|    NULL|    NULL|              NULL|              NULL|       NULL|         NULL|2021-04-30 03:46:00|2021-04-30 19:15:00|                 NULL|                    187.0|                  1.0|2021-04-28 09:18:00|2021-04-30 09:18:00|  2021-04-30 01:00:00|2021-05-01 07:00:00|83.33333333333333|       3744.0|         NULL|                   0|               1|         NULL|       NULL|      2|        0|      NULL|         0|        NULL|        NULL|     NULL|    NULL|\n",
      "|   5945105|    2021-04-08 09:11:00|       1359568|2021-03-22|Discharged to ano...|  Male|      71.0|    93.0|    NULL|     0.5|              NULL|             186.0|          1|         Vent|2021-03-22 22:12:00|2021-05-09 19:15:00|                  0.5|                    558.0|                  4.8|2021-04-06 15:11:00|2021-04-08 15:11:00|  2021-03-22 21:39:00|2021-05-10 12:15:00|             64.0|       3088.0|         75.0|                NULL|            NULL|           12|          1|      1|        0|         0|         3|        NULL|           3|        3|       2|\n",
      "|  10847878|    2021-06-11 05:58:00|       3198899|2021-06-11|                Dead|Female|      40.0|    89.0|    49.0|    0.21|             137.5|             125.0|          1|         Vent|2021-06-11 03:59:00|2021-06-14 03:00:00|                  0.3|                     NULL|                  3.4|2021-06-09 11:58:00|2021-06-11 11:58:00|  2021-06-11 03:45:00|2021-06-14 17:07:00|             73.0|         NULL|         NULL|                   0|               1|            3|       NULL|      2|     NULL|         0|         2|           3|           4|        3|       4|\n",
      "|  12092433|    2021-09-01 16:57:00|       2606449|2021-08-24|                Home|Female|      69.0|    92.0|    NULL|     0.3|              NULL| 306.6666666666667|       NULL|         NULL|2021-08-24 14:46:00|2021-09-01 19:15:00|                 NULL|                    342.0|                  2.2|2021-08-30 22:57:00|2021-09-01 22:57:00|  2021-08-24 14:42:00|2021-09-02 02:50:00|             66.0|       3846.4|       62.205|                NULL|            NULL|           15|       NULL|      1|        0|      NULL|         2|        NULL|           2|        2|       0|\n",
      "|  17359028|    2022-03-23 03:15:00|       3557338|2022-03-18|Discharged to ano...|Female|      75.0|    97.0|   108.0|    0.21|             216.0|161.66666666666669|          6|Nasal Cannula|2022-03-18 04:40:00|2022-04-17 22:04:00|                  1.6|                     69.0|                 1.39|2022-03-21 09:15:00|2022-03-23 09:15:00|  2022-03-18 04:46:00|2022-04-18 15:00:00|             54.0|       1869.5|         63.0|                NULL|            NULL|           15|       NULL|      1|        2|         1|         1|           2|           3|        2|       0|\n",
      "|  15528964|    2021-01-29 09:49:00|       2886986|2021-01-29|                Home|Female|      49.0|    98.0|   165.0|    0.21|458.33333333333337|             247.5|          6|Nasal Cannula|2021-01-29 03:27:00|2021-02-01 02:30:00|                  0.2|                     94.0|                 NULL|2021-01-27 15:49:00|2021-01-29 15:49:00|  2021-01-29 03:22:00|2021-02-01 11:00:00|             67.0|       2240.0|         NULL|                   0|               1|           11|          1|      2|        2|         0|         4|           0|           2|        0|       2|\n",
      "|  17752680|    2021-10-28 20:00:00|       3655270|2021-10-28|                Dead|  Male|      52.0|    98.0|   201.0|    0.35|             502.5|             245.0|          1|         Vent|2021-10-28 08:07:00|2021-11-11 06:00:00|                  0.5|                    215.0|                  0.5|2021-10-27 02:00:00|2021-10-29 02:00:00|  2021-10-28 07:45:00|2021-11-11 19:58:00|             79.0|      3174.62|         NULL|                NULL|            NULL|            3|       NULL|      0|        0|         0|         0|        NULL|           2|        2|       4|\n",
      "|   4696144|    2021-01-05 04:47:00|        239736|2021-01-05|                Home|  Male|      49.0|    97.0|    NULL|    0.21|              NULL| 461.9047619047619|       NULL|         NULL|               NULL|               NULL|                 NULL|                     NULL|                 NULL|2021-01-03 10:47:00|2021-01-05 10:47:00|  2021-01-05 00:25:00|2021-01-12 09:20:00|             91.0|         NULL|         NULL|                   0|               1|         NULL|       NULL|      2|        0|         0|         0|        NULL|        NULL|     NULL|    NULL|\n",
      "|  11547979|    2020-08-27 13:00:00|       1990605|2020-08-27|                Home|  Male|      67.0|    75.0|    NULL|     0.6|              NULL|              81.0|          1|         Vent|2020-08-27 08:43:00|2020-09-14 19:15:00|                 NULL|                     NULL|                  0.9|2020-08-25 19:00:00|2020-08-27 19:00:00|  2020-08-27 08:39:00|2020-09-15 06:51:00|             65.0|       4800.0|         72.0|                NULL|            NULL|            3|       NULL|      1|     NULL|      NULL|         0|        NULL|           4|        4|       4|\n",
      "|  22417436|    2021-06-02 06:15:00|       2825058|2021-06-02|                Home|Female|      76.0|    NULL|    NULL|    NULL|              NULL|              NULL|       NULL|         NULL|               NULL|               NULL|                 NULL|                     NULL|                 NULL|2021-05-31 12:15:00|2021-06-02 12:15:00|  2021-06-02 04:30:00|2021-06-02 10:45:00|             66.0|       2656.0|         63.0|                   0|               1|         NULL|       NULL|      2|        0|         0|         0|        NULL|        NULL|     NULL|    NULL|\n",
      "|  29615497|    2021-02-08 07:46:00|         79257|2021-02-06|             Hospice|Female|      90.0|    89.0|    NULL|    0.21|              NULL|423.80952380952385|       NULL|         NULL|2021-02-06 11:31:00|2021-02-10 18:15:00|                  0.9|                    329.0|                  1.0|2021-02-06 13:46:00|2021-02-08 13:46:00|  2021-02-06 11:17:00|2021-02-11 08:00:00|             73.0|       2032.0|         NULL|                   0|               1|           11|       NULL|      2|        0|         0|         0|        NULL|        NULL|     NULL|       2|\n",
      "|  17833929|    2021-08-20 09:15:00|       3730422|2021-08-20|                Home|Female|      68.0|    98.0|   180.0|    0.36|             450.0|             200.0|          6|Nasal Cannula|2021-08-20 03:32:00|2021-08-25 19:15:00|                 NULL|                    161.0|                  0.6|2021-08-18 15:15:00|2021-08-20 15:15:00|  2021-08-20 01:26:00|2021-08-26 04:00:00|             68.0|      2080.01|       65.984|                NULL|            NULL|           11|       NULL|      1|        0|      NULL|         0|           0|           3|        0|       2|\n",
      "|  26068946|    2022-01-16 08:58:00|        216740|2022-01-16|                Home|  Male|      57.0|    93.0|    NULL|    0.21|              NULL| 442.8571428571429|       NULL|         NULL|2022-01-16 02:48:00|2022-01-19 02:12:00|                  0.3|                    234.0|                  1.3|2022-01-14 14:58:00|2022-01-16 14:58:00|  2022-01-16 02:58:00|2022-01-19 11:16:00|             76.0|         NULL|         NULL|                   0|               1|           15|       NULL|      2|        0|         0|         1|        NULL|        NULL|     NULL|       0|\n",
      "|  17879209|    2020-11-23 01:56:00|        131008|2020-11-22|                Home|Female|      82.0|    95.0|    NULL|    0.21|              NULL| 452.3809523809524|       NULL|         NULL|2020-11-23 02:28:00|2020-11-27 14:00:00|                 NULL|                    241.0|                  0.8|2020-11-21 07:56:00|2020-11-23 07:56:00|  2020-11-23 00:19:00|2020-11-28 05:28:00|             91.0|       3200.0|         60.0|                   0|               1|         NULL|       NULL|      2|        0|      NULL|         0|        NULL|        NULL|     NULL|    NULL|\n",
      "+----------+-----------------------+--------------+----------+--------------------+------+----------+--------+--------+--------+------------------+------------------+-----------+-------------+-------------------+-------------------+---------------------+-------------------------+---------------------+-------------------+-------------------+---------------------+-------------------+-----------------+-------------+-------------+--------------------+----------------+-------------+-----------+-------+---------+----------+----------+------------+------------+---------+--------+\n",
      "only showing top 40 rows\n",
      "\n"
     ]
    }
   ],
   "source": [
    "\n",
    "df_group_7 = df_group_6.withColumn(\"sofa_cv\", f.expr(\n",
    "        \"\"\"\n",
    "        CASE \n",
    "        WHEN max_num_pressors >= 2 THEN 4\n",
    "        WHEN max_num_pressors == 1 AND min_dobutamine_alone IS NULL THEN 3\n",
    "        WHEN max_num_pressors == 1 AND min_dobutamine_alone IS NOT NULL THEN 2\n",
    "        WHEN MAP_for_sofa < 70.0 AND ( max_num_pressors == 0 OR max_num_pressors IS NULL ) THEN 1\n",
    "        WHEN MAP_for_sofa >= 70.0 AND ( max_num_pressors == 0 OR max_num_pressors IS NULL ) THEN 0\n",
    "        ELSE NULL\n",
    "        END\n",
    "        \"\"\"\n",
    "    ))\n",
    "\n",
    "df_group_7 = df_group_7.withColumn(\"sofa_coag\", f.expr(        \n",
    "        \"\"\"\n",
    "        CASE \n",
    "        WHEN platelet_count_min_filled >= 150 OR platelet_count_min_filled IS NULL THEN 0\n",
    "        WHEN platelet_count_min_filled >= 100 AND platelet_count_min_filled < 150 THEN 1\n",
    "        WHEN platelet_count_min_filled >= 50 AND platelet_count_min_filled < 100 THEN 2\n",
    "        WHEN platelet_count_min_filled >= 20 AND platelet_count_min_filled < 50  THEN 3\n",
    "        WHEN platelet_count_min_filled < 20 THEN 4\n",
    "        ELSE NULL\n",
    "        END\n",
    "        \"\"\"\n",
    "    ))\n",
    "\n",
    "df_group_7 = df_group_7.withColumn(\"sofa_liver\", f.expr(        \n",
    "        \"\"\"\n",
    "        CASE \n",
    "        WHEN billirubin_max_filled < 1.2 OR billirubin_max_filled IS NULL THEN 0\n",
    "        WHEN billirubin_max_filled >=1.2 AND billirubin_max_filled <= 1.9 THEN 1\n",
    "        WHEN billirubin_max_filled >1.9 AND billirubin_max_filled <= 5.9 THEN 2\n",
    "        WHEN billirubin_max_filled >=5.9 AND billirubin_max_filled <= 11.9 THEN 3\n",
    "        WHEN billirubin_max_filled > 12 THEN 4\n",
    "        ELSE NULL\n",
    "        END\n",
    "        \"\"\"\n",
    "    ))\n",
    "\n",
    "df_group_7 = df_group_7.withColumn(\"sofa_renal\", f.expr(        \n",
    "        \"\"\"\n",
    "        CASE \n",
    "        WHEN creatinine_max_filled < 1.2 OR creatinine_max_filled IS NULL THEN 0\n",
    "        WHEN creatinine_max_filled >=1.2 AND creatinine_max_filled < 2 THEN 1\n",
    "        WHEN creatinine_max_filled >=2 AND creatinine_max_filled < 3.5 THEN 2\n",
    "        WHEN creatinine_max_filled >=3.5 AND creatinine_max_filled < 5 THEN 3\n",
    "        WHEN creatinine_max_filled > 5 OR on_dialysis ==1 THEN 4\n",
    "        ELSE NULL\n",
    "        END\n",
    "        \"\"\"\n",
    "    ))\n",
    "\n",
    "df_group_7 = df_group_7.withColumn(\"sofa_resp_pf\", f.expr(        \n",
    "        \"\"\"\n",
    "        CASE \n",
    "        WHEN min_PF <= 100 AND max_device IS NOT NULL THEN 4\n",
    "        WHEN min_PF > 100 AND min_PF <= 200 AND max_device IS NOT NULL THEN 3\n",
    "        WHEN min_PF > 200 AND min_PF <= 300 THEN 2\n",
    "        WHEN min_PF > 300 AND min_PF <= 400 THEN 1\n",
    "        WHEN min_PF > 400 AND max_device != \"NIPPV\" AND max_device != \"Vent\" THEN 0\n",
    "        ELSE NULL\n",
    "        END\n",
    "        \"\"\"\n",
    "    ))\n",
    "\n",
    "df_group_7 = df_group_7.withColumn(\"sofa_resp_sf\", f.expr(        \n",
    "        \"\"\"\n",
    "        CASE \n",
    "        WHEN min_SF <= 150 AND max_device IS NOT NULL THEN 4\n",
    "        WHEN min_SF > 150 AND min_SF <= 235 AND max_device IS NOT NULL THEN 3\n",
    "        WHEN min_SF > 235 AND min_SF <= 315 THEN 2\n",
    "        WHEN min_SF > 315 AND min_SF <= 400 THEN 1\n",
    "        WHEN min_SF > 400 AND max_device != \"NIPPV\" AND max_device != \"Vent\" THEN 0\n",
    "        ELSE NULL\n",
    "        END\n",
    "        \"\"\"\n",
    "    ))\n",
    "\n",
    "df_group_7 = df_group_7.withColumn(\"sofa_resp\", f.expr(        \n",
    "        \"\"\"\n",
    "        CASE \n",
    "        WHEN sofa_resp_pf IS NOT NULL THEN sofa_resp_pf\n",
    "        WHEN sofa_resp_pf IS NULL AND sofa_resp_sf IS NOT NULL THEN sofa_resp_sf\n",
    "        ELSE NULL\n",
    "        END\n",
    "        \"\"\"\n",
    "    ))\n",
    "\n",
    "df_group_7 = df_group_7.withColumn(\"sofa_cns\", f.expr(        \n",
    "        \"\"\"\n",
    "        CASE \n",
    "        WHEN min_GCS_total == 15 THEN 0\n",
    "        WHEN min_GCS_total >=13 AND min_GCS_total < 15 THEN 1\n",
    "        WHEN min_GCS_total >=10 AND min_GCS_total < 13 THEN 2\n",
    "        WHEN min_GCS_total >=6 AND min_GCS_total < 10 THEN 3\n",
    "        WHEN min_GCS_total <= 5 THEN 4\n",
    "        ELSE NULL\n",
    "        END\n",
    "        \"\"\"\n",
    "    ))\n",
    "\n",
    "df_group_7.show(n=40)"
   ]
  },
  {
   "cell_type": "code",
   "execution_count": 31,
   "id": "c382698e",
   "metadata": {},
   "outputs": [
    {
     "name": "stderr",
     "output_type": "stream",
     "text": [
      "23/11/20 10:43:14 WARN RowBasedKeyValueBatch: Calling spill() on RowBasedKeyValueBatch. Will not spill but return 0.\n",
      "23/11/20 10:43:14 WARN RowBasedKeyValueBatch: Calling spill() on RowBasedKeyValueBatch. Will not spill but return 0.\n",
      "23/11/20 10:43:18 WARN RowBasedKeyValueBatch: Calling spill() on RowBasedKeyValueBatch. Will not spill but return 0.\n",
      "                                                                                \r"
     ]
    }
   ],
   "source": [
    "df_group_7 = df_group_7.toPandas()\n",
    "df_group_7.to_csv(\"/project2/wparker/SIPA_data/sipa_df.csv\")"
   ]
  },
  {
   "cell_type": "code",
   "execution_count": 2,
   "id": "b53f57fc",
   "metadata": {},
   "outputs": [
    {
     "name": "stderr",
     "output_type": "stream",
     "text": [
      "23/11/20 10:46:10 WARN SparkStringUtils: Truncated the string representation of a plan since it was too large. This behavior can be adjusted by setting 'spark.sql.debug.maxToStringFields'.\n",
      "                                                                                \r"
     ]
    }
   ],
   "source": [
    "vitals = spark.read.parquet(\"/project2/wparker/SIPA_data/cohort_vitals_48.parquet\")\n",
    "vitals.write.csv(\"/project2/wparker/SIPA_data/vitals_48.csv\")\n",
    "\n",
    "labs = spark.read.parquet(\"/project2/wparker/SIPA_data/cohort_labs_48.parquet\")\n",
    "labs.write.csv(\"/project2/wparker/SIPA_data/labs_48.csv\")"
   ]
  },
  {
   "cell_type": "code",
   "execution_count": null,
   "id": "0c19871f",
   "metadata": {},
   "outputs": [],
   "source": []
  }
 ],
 "metadata": {
  "kernelspec": {
   "display_name": "Python 3 (ipykernel)",
   "language": "python",
   "name": "python3"
  },
  "language_info": {
   "codemirror_mode": {
    "name": "ipython",
    "version": 3
   },
   "file_extension": ".py",
   "mimetype": "text/x-python",
   "name": "python",
   "nbconvert_exporter": "python",
   "pygments_lexer": "ipython3",
   "version": "3.8.5"
  }
 },
 "nbformat": 4,
 "nbformat_minor": 5
}
