{
 "cells": [
  {
   "cell_type": "code",
   "execution_count": 1,
   "id": "a4886631",
   "metadata": {},
   "outputs": [
    {
     "name": "stdout",
     "output_type": "stream",
     "text": [
      "loaded libraries\n"
     ]
    },
    {
     "name": "stderr",
     "output_type": "stream",
     "text": [
      "Setting default log level to \"WARN\".\n",
      "To adjust logging level use sc.setLogLevel(newLevel). For SparkR, use setLogLevel(newLevel).\n",
      "23/10/20 13:01:30 WARN NativeCodeLoader: Unable to load native-hadoop library for your platform... using builtin-java classes where applicable\n"
     ]
    }
   ],
   "source": [
    "from pyspark.sql import SparkSession\n",
    "import pyspark.sql.functions as f\n",
    "from pyspark import SparkConf\n",
    "import gc\n",
    "\n",
    "\n",
    "print(\"loaded libraries\")\n",
    "spark = SparkSession.builder \\\n",
    "        .appName(\"worst vitals\") \\\n",
    "        .getOrCreate()\n",
    "\n",
    "import os\n",
    "memory = '20g'\n",
    "pyspark_submit_args = ' --driver-memory ' + memory + ' pyspark-shell'\n",
    "os.environ[\"PYSPARK_SUBMIT_ARGS\"] = pyspark_submit_args"
   ]
  },
  {
   "cell_type": "code",
   "execution_count": 50,
   "id": "95d9a275",
   "metadata": {},
   "outputs": [],
   "source": [
    "vitals = spark.read.parquet(\"/project2/wparker/SIPA_data/compressed/RCLIF_vitals_10102023.parquet\")\n",
    "vitals = vitals.withColumn('measured_time',f.to_timestamp('recorded_time','yyyy-MM-dd HH:mm:ss'))\n",
    "vitals = vitals.select('C19_HAR_ID', 'measured_time','vital_name', 'vital_value')"
   ]
  },
  {
   "cell_type": "code",
   "execution_count": 55,
   "id": "2ac90597",
   "metadata": {},
   "outputs": [
    {
     "name": "stdout",
     "output_type": "stream",
     "text": [
      "DataFrame Rows count : 11725\n"
     ]
    }
   ],
   "source": [
    "cohort = spark.read.option(\"header\",True).csv('/project2/wparker/cohort.csv')\n",
    "cohort = cohort.withColumn('life_support_start_time',f.to_timestamp('life_support_start','yyyy-MM-dd HH:mm:ss'))\n",
    "cohort = cohort.select('C19_HAR_ID', 'life_support_start_time')\n",
    "cohort = cohort.filter((f.col('life_support_start_time')>='2020-03-01 00:00:00') &\n",
    "                                           (f.col('life_support_start_time')<='2022-03-31 11:59:59'))\n",
    "rows = cohort.count()\n",
    "print(f\"DataFrame Rows count : {rows}\")"
   ]
  },
  {
   "cell_type": "code",
   "execution_count": 51,
   "id": "a8382c8c",
   "metadata": {},
   "outputs": [
    {
     "data": {
      "text/plain": [
       "932"
      ]
     },
     "execution_count": 51,
     "metadata": {},
     "output_type": "execute_result"
    }
   ],
   "source": [
    "cohort_vitals = cohort.join(vitals,'C19_HAR_ID','left')\n",
    "cohort_vitals = cohort_vitals.withColumn(\"hour_diff\", (f.col(\"measured_time\").cast(\"long\")-f.col(\"life_support_start_time\").cast(\"long\"))/(60*60))\n",
    "cohort_vitals_48 = cohort_vitals.filter((f.col('hour_diff')>-42)&(f.col('hour_diff')<=5))\n",
    "cohort_vitals_48 = cohort_vitals_48.filter((f.col('measured_time')>='2020-03-01 00:00:00') &\n",
    "                                           (f.col('measured_time')<='2022-03-31 11:59:59'))\n",
    "del vitals\n",
    "del cohort_vitals\n",
    "del cohort\n",
    "gc.collect()"
   ]
  },
  {
   "cell_type": "code",
   "execution_count": 52,
   "id": "ec094320",
   "metadata": {},
   "outputs": [],
   "source": [
    "cohort_vitals_48 = cohort_vitals_48.withColumn('meas_hour', f.hour(f.col('measured_time')))\n",
    "cohort_vitals_48 = cohort_vitals_48.withColumn('meas_date', f.to_date(f.col('measured_time')))\n",
    "cohort_vitals_48 = cohort_vitals_48.select('C19_HAR_ID', 'life_support_start_time','meas_date',\n",
    "                                           'meas_hour', 'vital_name', 'vital_value')"
   ]
  },
  {
   "cell_type": "code",
   "execution_count": 53,
   "id": "c7c34e08",
   "metadata": {},
   "outputs": [
    {
     "name": "stderr",
     "output_type": "stream",
     "text": [
      "                                                                                \r"
     ]
    }
   ],
   "source": [
    "group_cols = [\"C19_HAR_ID\", \"life_support_start_time\",\"meas_date\", \"meas_hour\"]\n",
    "cohort_vitals_wide = cohort_vitals_48.groupBy(group_cols) \\\n",
    "                                     .pivot(\"vital_name\") \\\n",
    "                                     .agg(f.min('vital_value').alias(\"min\"),\n",
    "                                         f.max('vital_value').alias(\"max\")).orderBy(group_cols)"
   ]
  },
  {
   "cell_type": "code",
   "execution_count": 46,
   "id": "c8a2c6e3",
   "metadata": {},
   "outputs": [
    {
     "name": "stderr",
     "output_type": "stream",
     "text": [
      "                                                                                \r"
     ]
    }
   ],
   "source": [
    "cohort_vitals_wide.write.parquet(\"/project2/wparker/SIPA_data/cohort_vitals_48_blocked.parquet\", mode=\"overwrite\")"
   ]
  },
  {
   "cell_type": "code",
   "execution_count": 59,
   "id": "f1466310",
   "metadata": {},
   "outputs": [
    {
     "name": "stderr",
     "output_type": "stream",
     "text": [
      "                                                                                \r"
     ]
    },
    {
     "name": "stdout",
     "output_type": "stream",
     "text": [
      "DataFrame Rows count : 11624\n"
     ]
    },
    {
     "name": "stderr",
     "output_type": "stream",
     "text": [
      "                                                                                \r"
     ]
    }
   ],
   "source": [
    "group_cols = [\"C19_HAR_ID\", \"life_support_start_time\"]\n",
    "\n",
    "cohort_vitals_wide_summary = cohort_vitals_wide.groupBy(group_cols) \\\n",
    "    .agg(f.min(\"MAP_min\").alias(\"MAP_min\"), \\\n",
    "         f.max(\"MAP_max\").alias(\"MAP_max\"), \\\n",
    "         f.min(\"dbp_min\").alias(\"dbp_min\"), \\\n",
    "         f.max(\"dbp_max\").alias(\"dbp_max\"), \\\n",
    "         f.min(\"sbp_min\").alias(\"sbp_min\"), \\\n",
    "         f.max(\"sbp_max\").alias(\"sbp_max\"), \\\n",
    "         f.min(\"heart_rate_min\").alias(\"heart_rate_min\"), \\\n",
    "         f.max(\"heart_rate_max\").alias(\"heart_rate_max\"), \\\n",
    "         f.min(\"respiratory_rate_min\").alias(\"respiratory_rate_min\"), \\\n",
    "         f.max(\"respiratory_rate_max\").alias(\"respiratory_rate_max\"), \\\n",
    "         f.min(\"spO2_min\").alias(\"spO2_min\"), \\\n",
    "         f.max(\"spO2_max\").alias(\"spO2_max\"), \\\n",
    "         f.min(\"temp_min\").alias(\"temp_min\"), \\\n",
    "         f.max(\"temp_max\").alias(\"temp_max\")).orderBy(\"life_support_start_time\")\n",
    "\n",
    "rows = cohort_vitals_wide_summary.count()\n",
    "print(f\"DataFrame Rows count : {rows}\")\n",
    "\n",
    "cohort_vitals_wide_summary.write.parquet(\"/project2/wparker/SIPA_data/cohort_vitals_48_summary.parquet\", mode=\"overwrite\")"
   ]
  }
 ],
 "metadata": {
  "kernelspec": {
   "display_name": "Python 3 (ipykernel)",
   "language": "python",
   "name": "python3"
  },
  "language_info": {
   "codemirror_mode": {
    "name": "ipython",
    "version": 3
   },
   "file_extension": ".py",
   "mimetype": "text/x-python",
   "name": "python",
   "nbconvert_exporter": "python",
   "pygments_lexer": "ipython3",
   "version": "3.8.5"
  }
 },
 "nbformat": 4,
 "nbformat_minor": 5
}
