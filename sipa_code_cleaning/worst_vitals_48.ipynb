{
 "cells": [
  {
   "cell_type": "code",
   "execution_count": 1,
   "id": "a4886631",
   "metadata": {},
   "outputs": [],
   "source": [
    "import pandas as pd\n",
    "import dask.dataframe as dd\n",
    "cohort = pd.read_csv('/project2/wparker/cohort.csv')\n",
    "vitals = dd.read_csv('/project2/wparker/SIPA_data/RCLIF_vitals.csv')\n"
   ]
  },
  {
   "cell_type": "code",
   "execution_count": 2,
   "id": "72c661e2",
   "metadata": {},
   "outputs": [],
   "source": [
    "temp = vitals.loc[(vitals['vital_name']=='temp')]\n",
    "\n",
    "cohort_temp=temp[temp['C19_HAR_ID'].isin(cohort['C19_HAR_ID'])]"
   ]
  },
  {
   "cell_type": "code",
   "execution_count": 3,
   "id": "594cb7e3",
   "metadata": {},
   "outputs": [],
   "source": [
    "cohort_temp_pd = cohort_temp.compute()\n",
    "cohort_temp_pd = cohort_temp_pd[['C19_HAR_ID', 'recorded_time', 'vital_name', 'vital_value']]\n"
   ]
  },
  {
   "cell_type": "code",
   "execution_count": 4,
   "id": "ffdebacd",
   "metadata": {},
   "outputs": [],
   "source": [
    "cohort_with_temp = cohort.merge(cohort_temp_pd, on='C19_HAR_ID', how='left')\n"
   ]
  },
  {
   "cell_type": "code",
   "execution_count": 5,
   "id": "d2602b88",
   "metadata": {},
   "outputs": [],
   "source": [
    "#calculate the difference in hours from index date (e.g., start of life support) \n",
    "# to occurrence (e.g., recorded_time)\n",
    "cohort_with_temp['recorded_time'] = pd.to_datetime(cohort_with_temp['recorded_time'], format='%Y-%m-%d %H:%M:%S')\n",
    "cohort_with_temp['life_support_start'] = pd.to_datetime(cohort_with_temp['life_support_start'], format='%Y-%m-%d %H:%M:%S')\n",
    "\n",
    "cohort_with_temp['hour_diff'] = (cohort_with_temp.recorded_time-cohort_with_temp.life_support_start) / pd.Timedelta(hours=1)\n",
    "\n",
    "#filter results for only those within 46 hrs before and 6 hours after life support\n",
    "cohort_with_temp = cohort_with_temp.loc[(cohort_with_temp['hour_diff'] >= -42) & (cohort_with_temp['hour_diff'] <= 6)]\n",
    "\n",
    "##round hours to the floor\n",
    "import numpy as np\n",
    "cohort_with_temp['hour_diff_round'] = cohort_with_temp['hour_diff'].apply(np.round)\n",
    "\n",
    "\n"
   ]
  },
  {
   "cell_type": "code",
   "execution_count": 6,
   "id": "9e7ca6b4",
   "metadata": {},
   "outputs": [
    {
     "ename": "ValueError",
     "evalue": "No axis named hour_diff_round for object type DataFrame",
     "output_type": "error",
     "traceback": [
      "\u001b[0;31m---------------------------------------------------------------------------\u001b[0m",
      "\u001b[0;31mKeyError\u001b[0m                                  Traceback (most recent call last)",
      "File \u001b[0;32m/software/python-anaconda-2020.11-el8-x86_64/lib/python3.8/site-packages/pandas/core/generic.py:554\u001b[0m, in \u001b[0;36mNDFrame._get_axis_number\u001b[0;34m(cls, axis)\u001b[0m\n\u001b[1;32m    553\u001b[0m \u001b[38;5;28;01mtry\u001b[39;00m:\n\u001b[0;32m--> 554\u001b[0m     \u001b[38;5;28;01mreturn\u001b[39;00m \u001b[38;5;28;43mcls\u001b[39;49m\u001b[38;5;241;43m.\u001b[39;49m\u001b[43m_AXIS_TO_AXIS_NUMBER\u001b[49m\u001b[43m[\u001b[49m\u001b[43maxis\u001b[49m\u001b[43m]\u001b[49m\n\u001b[1;32m    555\u001b[0m \u001b[38;5;28;01mexcept\u001b[39;00m \u001b[38;5;167;01mKeyError\u001b[39;00m:\n",
      "\u001b[0;31mKeyError\u001b[0m: 'hour_diff_round'",
      "\nDuring handling of the above exception, another exception occurred:\n",
      "\u001b[0;31mValueError\u001b[0m                                Traceback (most recent call last)",
      "Cell \u001b[0;32mIn[6], line 1\u001b[0m\n\u001b[0;32m----> 1\u001b[0m cohort_with_temp_grouped \u001b[38;5;241m=\u001b[39m \u001b[43mcohort_with_temp\u001b[49m\u001b[38;5;241;43m.\u001b[39;49m\u001b[43mgroupby\u001b[49m\u001b[43m(\u001b[49m\u001b[38;5;124;43m'\u001b[39;49m\u001b[38;5;124;43mC19_HAR_ID\u001b[39;49m\u001b[38;5;124;43m'\u001b[39;49m\u001b[43m,\u001b[49m\u001b[43m \u001b[49m\u001b[38;5;124;43m'\u001b[39;49m\u001b[38;5;124;43mhour_diff_round\u001b[39;49m\u001b[38;5;124;43m'\u001b[39;49m\u001b[43m)\u001b[49m[\u001b[38;5;124m'\u001b[39m\u001b[38;5;124mtemp\u001b[39m\u001b[38;5;124m'\u001b[39m]\u001b[38;5;241m.\u001b[39magg([\u001b[38;5;124m'\u001b[39m\u001b[38;5;124mmax\u001b[39m\u001b[38;5;124m'\u001b[39m])\n\u001b[1;32m      2\u001b[0m cohort_with_temp_grouped\n",
      "File \u001b[0;32m/software/python-anaconda-2020.11-el8-x86_64/lib/python3.8/site-packages/pandas/core/frame.py:8400\u001b[0m, in \u001b[0;36mDataFrame.groupby\u001b[0;34m(self, by, axis, level, as_index, sort, group_keys, squeeze, observed, dropna)\u001b[0m\n\u001b[1;32m   8398\u001b[0m \u001b[38;5;28;01mif\u001b[39;00m level \u001b[38;5;129;01mis\u001b[39;00m \u001b[38;5;28;01mNone\u001b[39;00m \u001b[38;5;129;01mand\u001b[39;00m by \u001b[38;5;129;01mis\u001b[39;00m \u001b[38;5;28;01mNone\u001b[39;00m:\n\u001b[1;32m   8399\u001b[0m     \u001b[38;5;28;01mraise\u001b[39;00m \u001b[38;5;167;01mTypeError\u001b[39;00m(\u001b[38;5;124m\"\u001b[39m\u001b[38;5;124mYou have to supply one of \u001b[39m\u001b[38;5;124m'\u001b[39m\u001b[38;5;124mby\u001b[39m\u001b[38;5;124m'\u001b[39m\u001b[38;5;124m and \u001b[39m\u001b[38;5;124m'\u001b[39m\u001b[38;5;124mlevel\u001b[39m\u001b[38;5;124m'\u001b[39m\u001b[38;5;124m\"\u001b[39m)\n\u001b[0;32m-> 8400\u001b[0m axis \u001b[38;5;241m=\u001b[39m \u001b[38;5;28;43mself\u001b[39;49m\u001b[38;5;241;43m.\u001b[39;49m\u001b[43m_get_axis_number\u001b[49m\u001b[43m(\u001b[49m\u001b[43maxis\u001b[49m\u001b[43m)\u001b[49m\n\u001b[1;32m   8402\u001b[0m \u001b[38;5;28;01mreturn\u001b[39;00m DataFrameGroupBy(\n\u001b[1;32m   8403\u001b[0m     obj\u001b[38;5;241m=\u001b[39m\u001b[38;5;28mself\u001b[39m,\n\u001b[1;32m   8404\u001b[0m     keys\u001b[38;5;241m=\u001b[39mby,\n\u001b[0;32m   (...)\u001b[0m\n\u001b[1;32m   8412\u001b[0m     dropna\u001b[38;5;241m=\u001b[39mdropna,\n\u001b[1;32m   8413\u001b[0m )\n",
      "File \u001b[0;32m/software/python-anaconda-2020.11-el8-x86_64/lib/python3.8/site-packages/pandas/core/generic.py:556\u001b[0m, in \u001b[0;36mNDFrame._get_axis_number\u001b[0;34m(cls, axis)\u001b[0m\n\u001b[1;32m    554\u001b[0m     \u001b[38;5;28;01mreturn\u001b[39;00m \u001b[38;5;28mcls\u001b[39m\u001b[38;5;241m.\u001b[39m_AXIS_TO_AXIS_NUMBER[axis]\n\u001b[1;32m    555\u001b[0m \u001b[38;5;28;01mexcept\u001b[39;00m \u001b[38;5;167;01mKeyError\u001b[39;00m:\n\u001b[0;32m--> 556\u001b[0m     \u001b[38;5;28;01mraise\u001b[39;00m \u001b[38;5;167;01mValueError\u001b[39;00m(\u001b[38;5;124mf\u001b[39m\u001b[38;5;124m\"\u001b[39m\u001b[38;5;124mNo axis named \u001b[39m\u001b[38;5;132;01m{\u001b[39;00maxis\u001b[38;5;132;01m}\u001b[39;00m\u001b[38;5;124m for object type \u001b[39m\u001b[38;5;132;01m{\u001b[39;00m\u001b[38;5;28mcls\u001b[39m\u001b[38;5;241m.\u001b[39m\u001b[38;5;18m__name__\u001b[39m\u001b[38;5;132;01m}\u001b[39;00m\u001b[38;5;124m\"\u001b[39m)\n",
      "\u001b[0;31mValueError\u001b[0m: No axis named hour_diff_round for object type DataFrame"
     ]
    }
   ],
   "source": [
    "cohort_with_temp_grouped = cohort_with_temp.groupby('C19_HAR_ID', 'hour_diff_round')['temp'].agg(['max'])\n",
    "cohort_with_temp_grouped"
   ]
  },
  {
   "cell_type": "code",
   "execution_count": null,
   "id": "b05bc455",
   "metadata": {},
   "outputs": [],
   "source": [
    "df_temp = df.groupby('C19_HAR_ID')['recorded_time'].agg(['min'])"
   ]
  }
 ],
 "metadata": {
  "kernelspec": {
   "display_name": "Python 3 (ipykernel)",
   "language": "python",
   "name": "python3"
  },
  "language_info": {
   "codemirror_mode": {
    "name": "ipython",
    "version": 3
   },
   "file_extension": ".py",
   "mimetype": "text/x-python",
   "name": "python",
   "nbconvert_exporter": "python",
   "pygments_lexer": "ipython3",
   "version": "3.8.5"
  }
 },
 "nbformat": 4,
 "nbformat_minor": 5
}
