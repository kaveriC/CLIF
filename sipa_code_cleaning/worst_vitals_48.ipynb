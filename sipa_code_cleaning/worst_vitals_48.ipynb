{
 "cells": [
  {
   "cell_type": "code",
   "execution_count": null,
   "id": "a4886631",
   "metadata": {},
   "outputs": [],
   "source": [
    "from pyspark.sql import SparkSession\n",
    "import pyspark.sql.functions as f\n",
    "import gc\n",
    "\n",
    "spark = SparkSession.builder \\\n",
    "        .appName(\"worst vitals\") \\\n",
    "        .config(\"spark.driver.memory\", \"20g\") \\\n",
    "        .getOrCreate()\n",
    "\n",
    "from pyspark import SparkConf\n",
    "\n",
    "conf = SparkConf().set(\"spark.ui.showConsoleProgress\", \"true\")"
   ]
  },
  {
   "cell_type": "code",
   "execution_count": null,
   "id": "95d9a275",
   "metadata": {},
   "outputs": [],
   "source": [
    "vitals = spark.read.parquet(\"/project2/wparker/SIPA_data/compressed/RCLIF_vitals_10102023.parquet\")\n",
    "vitals = vitals.withColumn('measured_time',f.to_timestamp('recorded_time','yyyy-MM-dd HH:mm:ss'))\n",
    "vitals = vitals.select('C19_HAR_ID', 'measured_time','vital_name', 'vital_value')"
   ]
  },
  {
   "cell_type": "code",
   "execution_count": null,
   "id": "2ac90597",
   "metadata": {},
   "outputs": [],
   "source": [
    "cohort = spark.read.option(\"header\",True).csv('/project2/wparker/cohort.csv')\n",
    "cohort = cohort.withColumn('life_support_start_time',f.to_timestamp('life_support_start','yyyy-MM-dd HH:mm:ss'))\n",
    "cohort = cohort.select('C19_HAR_ID', 'life_support_start_time')"
   ]
  },
  {
   "cell_type": "code",
   "execution_count": null,
   "id": "a8382c8c",
   "metadata": {},
   "outputs": [],
   "source": [
    "cohort_vitals = cohort.join(vitals,'C19_HAR_ID','left')\n",
    "cohort_vitals = cohort_vitals.withColumn(\"hour_diff\", (f.col(\"measured_time\").cast(\"long\")-f.col(\"life_support_start_time\").cast(\"long\"))/(60*60))\n",
    "cohort_vitals_48 = cohort_vitals.filter((f.col('hour_diff')>-42)&(f.col('hour_diff')<=6))\n",
    "\n",
    "del vitals\n",
    "del cohort_vitals\n",
    "#del cohort\n",
    "gc.collect()"
   ]
  },
  {
   "cell_type": "code",
   "execution_count": null,
   "id": "ec094320",
   "metadata": {},
   "outputs": [],
   "source": [
    "cohort_vitals_48 = cohort_vitals_48.withColumn('meas_hour', f.hour(f.col('measured_time')))\n",
    "cohort_vitals_48 = cohort_vitals_48.withColumn('meas_date', f.to_date(f.col('measured_time')))"
   ]
  },
  {
   "cell_type": "code",
   "execution_count": null,
   "id": "63f5cbc0",
   "metadata": {},
   "outputs": [],
   "source": [
    "group_cols = [\"C19_HAR_ID\", \"life_support_start_time\", \"hour_diff\",\"meas_date\", \"meas_hour\"]\n",
    "cohort_temp_grouped = cohort_vitals_48.filter(f.col('vital_name')=='temp')\n",
    "cohort_temp_grouped = cohort_temp_grouped.groupBy(group_cols) \\\n",
    "    .agg(f.min(\"vital_value\").alias(\"min_temp\"), \\\n",
    "         f.max(\"vital_value\").alias(\"max_temp\"), \\\n",
    "     ) \\\n",
    "    .select('C19_HAR_ID', 'life_support_start_time','meas_date', 'meas_hour', 'min_temp', 'max_temp') \n",
    "\n",
    "cohort_pulse_grouped = cohort_vitals_48.filter(f.col('vital_name')=='heart_rate')\n",
    "cohort_pulse_grouped = cohort_pulse_grouped.groupBy(group_cols) \\\n",
    "    .agg(f.min(\"vital_value\").alias(\"min_heart_rate\"), \\\n",
    "         f.max(\"vital_value\").alias(\"max_heart_rate\"), \\\n",
    "     ) \\\n",
    "    .select('C19_HAR_ID', 'life_support_start_time','meas_date', 'meas_hour', 'min_heart_rate', 'max_heart_rate') \n",
    "\n",
    "cohort_resp_grouped = cohort_vitals_48.filter(f.col('vital_name')=='respiratory_rate')\n",
    "cohort_resp_grouped = cohort_resp_grouped.groupBy(group_cols) \\\n",
    "    .agg(f.min(\"vital_value\").alias(\"min_resp_rate\"), \\\n",
    "         f.max(\"vital_value\").alias(\"max_resp_rate\"), \\\n",
    "     ) \\\n",
    "    .select('C19_HAR_ID', 'life_support_start_time','meas_date', 'meas_hour', 'min_resp_rate', 'max_resp_rate') \n",
    "\n",
    "cohort_spO2_grouped = cohort_vitals_48.filter(f.col('vital_name')=='spO2')\n",
    "cohort_spO2_grouped = cohort_spO2_grouped.groupBy(group_cols) \\\n",
    "    .agg(f.min(\"vital_value\").alias(\"min_spO2\"), \\\n",
    "         f.max(\"vital_value\").alias(\"max_spO2\"), \\\n",
    "     ) \\\n",
    "    .select('C19_HAR_ID', 'life_support_start_time','meas_date', 'meas_hour', 'min_spO2', 'max_spO2') \n",
    "\n",
    "cohort_sbp_grouped = cohort_vitals_48.filter(f.col('vital_name')=='sbp')\n",
    "cohort_sbp_grouped = cohort_sbp_grouped.groupBy(group_cols) \\\n",
    "    .agg(f.min(\"vital_value\").alias(\"min_sbp\"), \\\n",
    "         f.max(\"vital_value\").alias(\"max_sbp\"), \\\n",
    "     ) \\\n",
    "    .select('C19_HAR_ID', 'life_support_start_time','meas_date', 'meas_hour', 'min_sbp', 'max_sbp') \n",
    "\n",
    "cohort_dbp_grouped = cohort_vitals_48.filter(f.col('vital_name')=='dbp')\n",
    "cohort_dbp_grouped = cohort_dbp_grouped.groupBy(group_cols) \\\n",
    "    .agg(f.min(\"vital_value\").alias(\"min_dbp\"), \\\n",
    "         f.max(\"vital_value\").alias(\"max_dbp\"), \\\n",
    "     ) \\\n",
    "    .select('C19_HAR_ID', 'life_support_start_time','meas_date', 'meas_hour', 'min_dbp', 'max_dbp') \n",
    "\n",
    "cohort_map_grouped = cohort_vitals_48.filter(f.col('vital_name')=='MAP')\n",
    "cohort_map_grouped = cohort_map_grouped.groupBy(group_cols) \\\n",
    "    .agg(f.min(\"vital_value\").alias(\"min_MAP\"), \\\n",
    "         f.max(\"vital_value\").alias(\"max_MAP\"), \\\n",
    "     ) \\\n",
    "    .select('C19_HAR_ID', 'life_support_start_time','meas_date', 'meas_hour', 'min_MAP', 'max_MAP')\n",
    "\n",
    "del cohort_vitals_48\n",
    "gc.collect()"
   ]
  },
  {
   "cell_type": "code",
   "execution_count": null,
   "id": "8780bf6d",
   "metadata": {},
   "outputs": [],
   "source": [
    "cohort_vitals_blocked = cohort_temp_grouped.join(cohort_pulse_grouped, \\\n",
    "                                                 ['C19_HAR_ID','life_support_start_time', \\\n",
    "                                                     'meas_date', 'meas_hour'], how='full')\n",
    "cohort_vitals_blocked = cohort_vitals_blocked.join(cohort_resp_grouped, \\\n",
    "                                                 ['C19_HAR_ID','life_support_start_time', \\\n",
    "                                                     'meas_date', 'meas_hour'], how='full')\n",
    "cohort_vitals_blocked = cohort_vitals_blocked.join(cohort_spO2_grouped, \\\n",
    "                                                 ['C19_HAR_ID','life_support_start_time', \\\n",
    "                                                     'meas_date', 'meas_hour'], how='full')\n",
    "cohort_vitals_blocked = cohort_vitals_blocked.join(cohort_sbp_grouped, \\\n",
    "                                                 ['C19_HAR_ID','life_support_start_time', \\\n",
    "                                                     'meas_date', 'meas_hour'], how='full')\n",
    "cohort_vitals_blocked = cohort_vitals_blocked.join(cohort_dbp_grouped, \\\n",
    "                                                 ['C19_HAR_ID','life_support_start_time', \\\n",
    "                                                     'meas_date', 'meas_hour'], how='full')\n",
    "cohort_vitals_blocked = cohort_vitals_blocked.join(cohort_map_grouped, \\\n",
    "                                                 ['C19_HAR_ID','life_support_start_time', \\\n",
    "                                                     'meas_date', 'meas_hour'], how='full')\n",
    "del cohort_temp_grouped\n",
    "del cohort_pulse_grouped\n",
    "del cohort_resp_grouped\n",
    "del cohort_spO2_grouped\n",
    "del cohort_sbp_grouped\n",
    "del cohort_dbp_grouped\n",
    "del cohort_map_grouped\n",
    "gc.collect()"
   ]
  },
  {
   "cell_type": "code",
   "execution_count": null,
   "id": "04bd5b6c",
   "metadata": {},
   "outputs": [],
   "source": [
    "cohort_vitals_blocked.write.parquet(\"/project2/wparker/SIPA_data/cohort_vitals_blocked.parquet\")"
   ]
  },
  {
   "cell_type": "code",
   "execution_count": null,
   "id": "13fadd83",
   "metadata": {},
   "outputs": [],
   "source": [
    "from IPython.core.display import HTML\n",
    "display(HTML(\"<style>pre { white-space: pre !important; }</style>\"))\n",
    "cohort_vitals_blocked.show()\n",
    "spark.stop()"
   ]
  }
 ],
 "metadata": {
  "kernelspec": {
   "display_name": "Python 3",
   "language": "python",
   "name": "python3"
  },
  "language_info": {
   "codemirror_mode": {
    "name": "ipython",
    "version": 3
   },
   "file_extension": ".py",
   "mimetype": "text/x-python",
   "name": "python",
   "nbconvert_exporter": "python",
   "pygments_lexer": "ipython3",
   "version": "3.8.8"
  }
 },
 "nbformat": 4,
 "nbformat_minor": 5
}
