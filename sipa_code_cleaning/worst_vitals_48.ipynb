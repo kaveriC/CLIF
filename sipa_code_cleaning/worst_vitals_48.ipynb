{
 "cells": [
  {
   "cell_type": "code",
   "execution_count": 1,
   "id": "a4886631",
   "metadata": {},
   "outputs": [
    {
     "name": "stdout",
     "output_type": "stream",
     "text": [
      "loaded libraries\n"
     ]
    },
    {
     "name": "stderr",
     "output_type": "stream",
     "text": [
      "Setting default log level to \"WARN\".\n",
      "To adjust logging level use sc.setLogLevel(newLevel). For SparkR, use setLogLevel(newLevel).\n",
      "23/11/20 14:34:21 WARN NativeCodeLoader: Unable to load native-hadoop library for your platform... using builtin-java classes where applicable\n",
      "23/11/20 14:34:23 WARN Utils: Service 'SparkUI' could not bind on port 4040. Attempting port 4041.\n",
      "23/11/20 14:34:23 WARN Utils: Service 'SparkUI' could not bind on port 4041. Attempting port 4042.\n"
     ]
    }
   ],
   "source": [
    "from pyspark.sql import SparkSession\n",
    "import pyspark.sql.functions as f\n",
    "from pyspark.sql.window import Window\n",
    "\n",
    "\n",
    "print(\"loaded libraries\")\n",
    "spark = SparkSession.builder \\\n",
    "        .appName(\"worst vitals\") \\\n",
    "        .getOrCreate()\n"
   ]
  },
  {
   "cell_type": "code",
   "execution_count": 2,
   "id": "95d9a275",
   "metadata": {},
   "outputs": [
    {
     "name": "stderr",
     "output_type": "stream",
     "text": [
      "                                                                                \r"
     ]
    }
   ],
   "source": [
    "vitals = spark.read.parquet(\"/project2/wparker/SIPA_data/RCLIF_vitals_10242023.parquet\")\n",
    "vitals = vitals.withColumn('measured_time',f.to_timestamp('recorded_time','yyyy-MM-dd HH:mm:ss'))\n",
    "\n",
    "vitals = vitals.withColumn('meas_hour', f.hour(f.col('measured_time')))\n",
    "vitals = vitals.withColumn('meas_date', f.to_date(f.col('measured_time')))\n",
    "vitals = vitals.withColumn(\"vital_value_num\",vitals.vital_value.cast('double'))\n",
    "\n",
    "## Get first and last measurement times per person\n",
    "vitals_hours = vitals.select(\"C19_HAR_ID\",\"measured_time\").distinct()\n",
    "vitals_hours = vitals_hours.groupBy('C19_HAR_ID').agg((f.min('measured_time').alias(\"observed_vitals_start\")),\n",
    "                                               (f.max('measured_time').alias(\"observed_vitals_end\")))\n",
    "\n",
    "vitals_hours = vitals_hours.withColumn('observed_vitals_start',f.to_timestamp('observed_vitals_start','yyyy-MM-dd'))\n",
    "vitals_hours = vitals_hours.withColumn('observed_vitals_end',f.to_timestamp('observed_vitals_end','yyyy-MM-dd'))\n",
    "\n",
    "## Explode between first and last measurement times to get all hourly timestamps\n",
    "vitals_hours = vitals_hours.withColumn('txnDt', \n",
    "                                   f.explode(f.expr('sequence(observed_vitals_start, observed_vitals_end, interval 1 hour)')))\n",
    "vitals_hours = vitals_hours.withColumn('meas_hour', f.hour(f.col('txnDt')))\n",
    "vitals_hours = vitals_hours.withColumn('meas_date', f.to_date(f.col('txnDt')))\n",
    "vitals_hours = vitals_hours.select('C19_HAR_ID', 'txnDt', 'meas_date', 'meas_hour', \n",
    "                               'observed_vitals_start', 'observed_vitals_end')\n",
    "\n",
    "vitals = vitals.select('C19_HAR_ID', 'meas_date', 'meas_hour', 'vital_name', 'vital_value_num')\n",
    "vitals = vitals.filter(f.col('vital_value_num')>=0)"
   ]
  },
  {
   "cell_type": "code",
   "execution_count": 3,
   "id": "2ac90597",
   "metadata": {},
   "outputs": [
    {
     "data": {
      "text/html": [
       "<style>pre { white-space: pre !important; }</style>"
      ],
      "text/plain": [
       "<IPython.core.display.HTML object>"
      ]
     },
     "metadata": {},
     "output_type": "display_data"
    },
    {
     "name": "stderr",
     "output_type": "stream",
     "text": [
      "                                                                                \r"
     ]
    }
   ],
   "source": [
    "from IPython.core.display import HTML\n",
    "display(HTML(\"<style>pre { white-space: pre !important; }</style>\"))\n",
    "\n",
    "## Read in cohort\n",
    "cohort = spark.read.parquet(\"/project2/wparker/SIPA_data/life_support_cohort.parquet\")\n",
    "cohort = cohort.withColumn('life_support_start_time',f.to_timestamp('life_support_start','yyyy-MM-dd HH:mm:ss'))\n",
    "cohort = cohort.select('C19_HAR_ID', 'life_support_start_time')\n",
    "\n",
    "group_cols = [\"C19_HAR_ID\"]\n",
    "cohort_vitals = cohort.join(vitals, on=group_cols, how=\"left\")\n",
    "\n",
    "cohort_vitals = cohort_vitals.select('C19_HAR_ID', 'life_support_start_time','meas_date', 'meas_hour', \n",
    "                                       'vital_name', 'vital_value_num')\n",
    "cohort_vitals = cohort_vitals.filter(f.col('vital_name').isNotNull())\n",
    "\n",
    "## Get min and max for each hour\n",
    "group_cols = [\"C19_HAR_ID\", \"life_support_start_time\",'meas_date', 'meas_hour']\n",
    "cohort_vitals_wide = cohort_vitals.groupBy(group_cols) \\\n",
    "                                     .pivot(\"vital_name\") \\\n",
    "                                     .agg(f.min('vital_value_num').alias(\"min\"),\n",
    "                                         f.max('vital_value_num').alias(\"max\")).orderBy(group_cols)\n",
    "\n",
    "cohort_hours = cohort.join(vitals_hours, on='C19_HAR_ID', how='left')\n",
    "\n",
    "\n",
    "\n",
    "group_cols = [\"C19_HAR_ID\", 'life_support_start_time', 'meas_date', 'meas_hour']\n",
    "cohort_vitals_wide = cohort_hours.join(cohort_vitals_wide, on=group_cols, how='full').orderBy(group_cols)"
   ]
  },
  {
   "cell_type": "code",
   "execution_count": 4,
   "id": "7262569b",
   "metadata": {},
   "outputs": [],
   "source": [
    "## Carry forward height and weight only for SIPA\n",
    "cohort_vitals_wide_2 = cohort_vitals_wide.withColumn('weight_filled', \n",
    "                                       f.coalesce(f.col('weight_max'), \n",
    "                                                  f.last('weight_max', True) \\\n",
    "                                                  .over(Window.partitionBy('C19_HAR_ID') \\\n",
    "                                                        .orderBy('txnDt')), f.lit('NULL')))\n",
    "\n",
    "cohort_vitals_wide_2 = cohort_vitals_wide_2.withColumn('height_filled', \n",
    "                                       f.coalesce(f.col('height_max'), \n",
    "                                                  f.last('height_max', True) \\\n",
    "                                                  .over(Window.partitionBy('C19_HAR_ID') \\\n",
    "                                                        .orderBy('txnDt')), f.lit('NULL')))"
   ]
  },
  {
   "cell_type": "code",
   "execution_count": 5,
   "id": "ec094320",
   "metadata": {},
   "outputs": [
    {
     "name": "stderr",
     "output_type": "stream",
     "text": [
      "23/11/20 14:34:52 WARN SparkStringUtils: Truncated the string representation of a plan since it was too large. This behavior can be adjusted by setting 'spark.sql.debug.maxToStringFields'.\n",
      "23/11/20 14:36:13 WARN RowBasedKeyValueBatch: Calling spill() on RowBasedKeyValueBatch. Will not spill but return 0.\n",
      "23/11/20 14:36:37 WARN RowBasedKeyValueBatch: Calling spill() on RowBasedKeyValueBatch. Will not spill but return 0.\n",
      "23/11/20 14:36:43 WARN RowBasedKeyValueBatch: Calling spill() on RowBasedKeyValueBatch. Will not spill but return 0.\n",
      "23/11/20 14:36:48 WARN RowBasedKeyValueBatch: Calling spill() on RowBasedKeyValueBatch. Will not spill but return 0.\n",
      "23/11/20 14:36:55 WARN RowBasedKeyValueBatch: Calling spill() on RowBasedKeyValueBatch. Will not spill but return 0.\n",
      "23/11/20 14:36:56 WARN RowBasedKeyValueBatch: Calling spill() on RowBasedKeyValueBatch. Will not spill but return 0.\n",
      "23/11/20 14:37:03 WARN RowBasedKeyValueBatch: Calling spill() on RowBasedKeyValueBatch. Will not spill but return 0.\n",
      "23/11/20 14:37:04 WARN RowBasedKeyValueBatch: Calling spill() on RowBasedKeyValueBatch. Will not spill but return 0.\n",
      "23/11/20 14:37:12 WARN RowBasedKeyValueBatch: Calling spill() on RowBasedKeyValueBatch. Will not spill but return 0.\n",
      "23/11/20 14:37:21 WARN RowBasedKeyValueBatch: Calling spill() on RowBasedKeyValueBatch. Will not spill but return 0.\n",
      "                                                                                \r"
     ]
    }
   ],
   "source": [
    "cohort = cohort_vitals_wide_2.withColumn('window_start', (f.col('life_support_start_time')-f.expr(\"INTERVAL 42 HOURS\")))\n",
    "cohort = cohort.withColumn('window_end', (f.col('life_support_start_time')+f.expr(\"INTERVAL 6 HOURS\")))\n",
    "\n",
    "cohort_vitals_48 = cohort.filter((f.col('txnDt') >= f.col('window_start')) &\n",
    "                              (f.col('txnDt') <= f.col('window_end')))\n",
    "cohort_vitals_48 = cohort_vitals_48.withColumn(\"MAP_for_sofa\", f.expr(\n",
    "        \"\"\"\n",
    "        CASE\n",
    "        WHEN MAP_min IS NOT NULL THEN MAP_min\n",
    "        WHEN MAP_min IS NULL AND sbp_min IS NOT NULL AND dbp_min IS NOT NULL THEN ( sbp_min + 2.0 * dbp_min ) / 3.0\n",
    "        ELSE NULL\n",
    "        END\n",
    "        \"\"\"\n",
    "    ))\n",
    "cohort_vitals_48.write.parquet(\"/project2/wparker/SIPA_data/cohort_vitals_48.parquet\", mode=\"overwrite\")"
   ]
  },
  {
   "cell_type": "code",
   "execution_count": 6,
   "id": "f1466310",
   "metadata": {},
   "outputs": [
    {
     "name": "stderr",
     "output_type": "stream",
     "text": [
      "23/11/20 14:41:23 WARN RowBasedKeyValueBatch: Calling spill() on RowBasedKeyValueBatch. Will not spill but return 0.\n",
      "23/11/20 14:41:23 WARN RowBasedKeyValueBatch: Calling spill() on RowBasedKeyValueBatch. Will not spill but return 0.\n",
      "23/11/20 14:41:23 WARN RowBasedKeyValueBatch: Calling spill() on RowBasedKeyValueBatch. Will not spill but return 0.\n",
      "23/11/20 14:41:23 WARN RowBasedKeyValueBatch: Calling spill() on RowBasedKeyValueBatch. Will not spill but return 0.\n",
      "                                                                                \r"
     ]
    },
    {
     "name": "stdout",
     "output_type": "stream",
     "text": [
      "DataFrame Rows count : 11770\n"
     ]
    },
    {
     "name": "stderr",
     "output_type": "stream",
     "text": [
      "23/11/20 14:42:17 WARN RowBasedKeyValueBatch: Calling spill() on RowBasedKeyValueBatch. Will not spill but return 0.\n",
      "23/11/20 14:42:24 WARN RowBasedKeyValueBatch: Calling spill() on RowBasedKeyValueBatch. Will not spill but return 0.\n",
      "23/11/20 14:42:31 WARN RowBasedKeyValueBatch: Calling spill() on RowBasedKeyValueBatch. Will not spill but return 0.\n",
      "23/11/20 14:42:34 WARN RowBasedKeyValueBatch: Calling spill() on RowBasedKeyValueBatch. Will not spill but return 0.\n",
      "23/11/20 14:42:41 WARN RowBasedKeyValueBatch: Calling spill() on RowBasedKeyValueBatch. Will not spill but return 0.\n",
      "23/11/20 14:42:50 WARN RowBasedKeyValueBatch: Calling spill() on RowBasedKeyValueBatch. Will not spill but return 0.\n",
      "23/11/20 14:42:51 WARN RowBasedKeyValueBatch: Calling spill() on RowBasedKeyValueBatch. Will not spill but return 0.\n",
      "23/11/20 14:43:00 WARN RowBasedKeyValueBatch: Calling spill() on RowBasedKeyValueBatch. Will not spill but return 0.\n",
      "23/11/20 14:43:09 WARN RowBasedKeyValueBatch: Calling spill() on RowBasedKeyValueBatch. Will not spill but return 0.\n",
      "                                                                                \r"
     ]
    }
   ],
   "source": [
    "group_cols = ['C19_HAR_ID', 'life_support_start_time', 'window_start', 'window_end',\n",
    "              'observed_vitals_start', 'observed_vitals_end']\n",
    "\n",
    "cohort_vitals_48_summary = cohort_vitals_48.groupBy(group_cols) \\\n",
    "                                     .agg(f.max('weight_filled').alias(\"weight_filled\"),\n",
    "                                         f.max('height_filled').alias(\"height_filled\"),\n",
    "                                         f.min('MAP_for_sofa').alias(\"MAP_for_sofa\"))\\\n",
    "                                    .distinct()\\\n",
    "                                    .orderBy(\"life_support_start_time\")\n",
    "\n",
    "\n",
    "rows = cohort_vitals_48_summary.count()\n",
    "print(f\"DataFrame Rows count : {rows}\")\n",
    "\n",
    "cohort_vitals_48_summary.write.parquet(\"/project2/wparker/SIPA_data/cohort_vitals_48_summary.parquet\", \n",
    "                                         mode=\"overwrite\")"
   ]
  }
 ],
 "metadata": {
  "kernelspec": {
   "display_name": "Python 3 (ipykernel)",
   "language": "python",
   "name": "python3"
  },
  "language_info": {
   "codemirror_mode": {
    "name": "ipython",
    "version": 3
   },
   "file_extension": ".py",
   "mimetype": "text/x-python",
   "name": "python",
   "nbconvert_exporter": "python",
   "pygments_lexer": "ipython3",
   "version": "3.8.5"
  }
 },
 "nbformat": 4,
 "nbformat_minor": 5
}
