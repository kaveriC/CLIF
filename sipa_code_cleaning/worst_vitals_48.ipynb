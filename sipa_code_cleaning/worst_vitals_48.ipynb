{
 "cells": [
  {
   "cell_type": "code",
   "execution_count": 2,
   "id": "a4886631",
   "metadata": {},
   "outputs": [
    {
     "name": "stdout",
     "output_type": "stream",
     "text": [
      "loaded libraries\n"
     ]
    },
    {
     "name": "stderr",
     "output_type": "stream",
     "text": [
      "Setting default log level to \"WARN\".\n",
      "To adjust logging level use sc.setLogLevel(newLevel). For SparkR, use setLogLevel(newLevel).\n",
      "23/10/20 18:04:45 WARN NativeCodeLoader: Unable to load native-hadoop library for your platform... using builtin-java classes where applicable\n",
      "23/10/20 18:04:46 WARN Utils: Service 'SparkUI' could not bind on port 4040. Attempting port 4041.\n"
     ]
    }
   ],
   "source": [
    "from pyspark.sql import SparkSession\n",
    "import pyspark.sql.functions as f\n",
    "\n",
    "print(\"loaded libraries\")\n",
    "spark = SparkSession.builder \\\n",
    "        .appName(\"worst vitals\") \\\n",
    "        .getOrCreate()\n"
   ]
  },
  {
   "cell_type": "code",
   "execution_count": 3,
   "id": "95d9a275",
   "metadata": {},
   "outputs": [
    {
     "name": "stderr",
     "output_type": "stream",
     "text": [
      "\r",
      "[Stage 0:===========================================================(1 + 0) / 1]\r",
      "\r",
      "                                                                                \r"
     ]
    }
   ],
   "source": [
    "vitals = spark.read.parquet(\"/project2/wparker/SIPA_data/compressed/RCLIF_vitals_10102023.parquet\")\n",
    "vitals = vitals.withColumn('measured_time',f.to_timestamp('recorded_time','yyyy-MM-dd HH:mm:ss'))\n",
    "vitals = vitals.select('C19_HAR_ID', 'measured_time','vital_name', 'vital_value')"
   ]
  },
  {
   "cell_type": "code",
   "execution_count": 4,
   "id": "2ac90597",
   "metadata": {},
   "outputs": [
    {
     "name": "stdout",
     "output_type": "stream",
     "text": [
      "DataFrame Rows count : 11754\n"
     ]
    }
   ],
   "source": [
    "cohort = spark.read.option(\"header\",True).csv('/project2/wparker/SIPA_data/life_support_cohort.csv')\n",
    "cohort = cohort.withColumn('life_support_start_time',f.to_timestamp('life_support_start','yyyy-MM-dd HH:mm:ss'))\n",
    "cohort = cohort.select('C19_HAR_ID', 'life_support_start_time')\n",
    "rows = cohort.count()\n",
    "print(f\"DataFrame Rows count : {rows}\")"
   ]
  },
  {
   "cell_type": "code",
   "execution_count": 5,
   "id": "a8382c8c",
   "metadata": {},
   "outputs": [],
   "source": [
    "cohort_vitals = cohort.join(vitals,'C19_HAR_ID','left')\n",
    "cohort_vitals = cohort_vitals.withColumn(\"hour_diff\", (f.col(\"measured_time\").cast(\"long\")-f.col(\"life_support_start_time\").cast(\"long\"))/(60*60))\n",
    "cohort_vitals_48 = cohort_vitals.filter((f.col('hour_diff')>-42)&(f.col('hour_diff')<=5))\n"
   ]
  },
  {
   "cell_type": "code",
   "execution_count": 6,
   "id": "ec094320",
   "metadata": {},
   "outputs": [],
   "source": [
    "cohort_vitals_48 = cohort_vitals_48.withColumn('meas_hour', f.hour(f.col('measured_time')))\n",
    "cohort_vitals_48 = cohort_vitals_48.withColumn('meas_date', f.to_date(f.col('measured_time')))\n",
    "cohort_vitals_48 = cohort_vitals_48.select('C19_HAR_ID', 'life_support_start_time','meas_date',\n",
    "                                           'meas_hour', 'vital_name', 'vital_value')"
   ]
  },
  {
   "cell_type": "code",
   "execution_count": 7,
   "id": "a8f5ed26",
   "metadata": {},
   "outputs": [
    {
     "name": "stderr",
     "output_type": "stream",
     "text": [
      "                                                                                \r"
     ]
    }
   ],
   "source": [
    "group_cols = [\"C19_HAR_ID\", \"life_support_start_time\",\"meas_date\", \"meas_hour\"]\n",
    "cohort_vitals_wide = cohort_vitals_48.groupBy(group_cols) \\\n",
    "                                     .pivot(\"vital_name\") \\\n",
    "                                     .agg(f.min('vital_value').alias(\"min\"),\n",
    "                                         f.max('vital_value').alias(\"max\")).orderBy(group_cols)"
   ]
  },
  {
   "cell_type": "code",
   "execution_count": 7,
   "id": "7c2524e7",
   "metadata": {},
   "outputs": [
    {
     "name": "stderr",
     "output_type": "stream",
     "text": [
      "                                                                                \r"
     ]
    }
   ],
   "source": [
    "cohort_vitals_wide.write.parquet(\"/project2/wparker/SIPA_data/cohort_vitals_48_blocked.parquet\", mode=\"overwrite\")"
   ]
  },
  {
   "cell_type": "code",
   "execution_count": 9,
   "id": "f1466310",
   "metadata": {},
   "outputs": [
    {
     "name": "stderr",
     "output_type": "stream",
     "text": [
      "                                                                                \r"
     ]
    },
    {
     "name": "stdout",
     "output_type": "stream",
     "text": [
      "DataFrame Rows count : 11653\n"
     ]
    },
    {
     "name": "stderr",
     "output_type": "stream",
     "text": [
      "                                                                                \r"
     ]
    }
   ],
   "source": [
    "group_cols = [\"C19_HAR_ID\", \"life_support_start_time\"]\n",
    "\n",
    "cohort_vitals_wide_summary = cohort_vitals_48.groupBy(group_cols) \\\n",
    "                                     .pivot(\"vital_name\") \\\n",
    "                                     .agg(f.min('vital_value').alias(\"min\"),\n",
    "                                         f.max('vital_value').alias(\"max\")).orderBy(\"life_support_start_time\")\n",
    "\n",
    "rows = cohort_vitals_wide_summary.count()\n",
    "print(f\"DataFrame Rows count : {rows}\")\n",
    "\n",
    "cohort_vitals_wide_summary.write.parquet(\"/project2/wparker/SIPA_data/cohort_vitals_48_summary.parquet\", \n",
    "                                         mode=\"overwrite\")"
   ]
  },
  {
   "cell_type": "code",
   "execution_count": null,
   "id": "742156be",
   "metadata": {},
   "outputs": [],
   "source": []
  }
 ],
 "metadata": {
  "kernelspec": {
   "display_name": "Python 3 (ipykernel)",
   "language": "python",
   "name": "python3"
  },
  "language_info": {
   "codemirror_mode": {
    "name": "ipython",
    "version": 3
   },
   "file_extension": ".py",
   "mimetype": "text/x-python",
   "name": "python",
   "nbconvert_exporter": "python",
   "pygments_lexer": "ipython3",
   "version": "3.8.5"
  }
 },
 "nbformat": 4,
 "nbformat_minor": 5
}
