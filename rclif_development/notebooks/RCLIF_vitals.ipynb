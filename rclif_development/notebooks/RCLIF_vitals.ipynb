{
 "cells": [
  {
   "cell_type": "code",
   "execution_count": 6,
   "metadata": {},
   "outputs": [
    {
     "name": "stdout",
     "output_type": "stream",
     "text": [
      "Requirement already satisfied: pandas in /Users/kavenchhikara/anaconda3/lib/python3.10/site-packages (1.5.3)\n",
      "Requirement already satisfied: python-dateutil>=2.8.1 in /Users/kavenchhikara/anaconda3/lib/python3.10/site-packages (from pandas) (2.8.2)\n",
      "Requirement already satisfied: pytz>=2020.1 in /Users/kavenchhikara/anaconda3/lib/python3.10/site-packages (from pandas) (2022.7)\n",
      "Requirement already satisfied: numpy>=1.21.0 in /Users/kavenchhikara/anaconda3/lib/python3.10/site-packages (from pandas) (1.23.5)\n",
      "Requirement already satisfied: six>=1.5 in /Users/kavenchhikara/anaconda3/lib/python3.10/site-packages (from python-dateutil>=2.8.1->pandas) (1.16.0)\n"
     ]
    }
   ],
   "source": [
    "# !pip install boxsdk\n",
    "# !pip install pandas"
   ]
  },
  {
   "cell_type": "code",
   "execution_count": 12,
   "metadata": {},
   "outputs": [],
   "source": [
    "import pandas\n",
    "# Import two classes from the boxsdk module - Client and OAuth2\n",
    "from boxsdk import Client, OAuth2\n",
    "from flask import render_template "
   ]
  },
  {
   "cell_type": "code",
   "execution_count": 5,
   "metadata": {},
   "outputs": [],
   "source": [
    "CLIENT_ID = \"8tiw6nuhzopcfgef9s9366lusndc0hf1\"\n",
    "CLIENT_SECRET = \"WhxifwX8DVszZ8YNGufvMhKASeWxn3dg\"\n",
    "REDIRECT_URI = \"http://localhost:1410/\""
   ]
  },
  {
   "cell_type": "code",
   "execution_count": 6,
   "metadata": {},
   "outputs": [],
   "source": [
    "# REFERENCE- https://medium.com/box-developer-blog/getting-started-with-box-python-sdk-and-oauth-2-0-77607441170d#id_token=eyJhbGciOiJSUzI1NiIsImtpZCI6ImZkNDhhNzUxMzhkOWQ0OGYwYWE2MzVlZjU2OWM0ZTE5NmY3YWU4ZDYiLCJ0eXAiOiJKV1QifQ.eyJpc3MiOiJodHRwczovL2FjY291bnRzLmdvb2dsZS5jb20iLCJhenAiOiIyMTYyOTYwMzU4MzQtazFrNnFlMDYwczJ0cDJhMmphbTRsamRjbXMwMHN0dGcuYXBwcy5nb29nbGV1c2VyY29udGVudC5jb20iLCJhdWQiOiIyMTYyOTYwMzU4MzQtazFrNnFlMDYwczJ0cDJhMmphbTRsamRjbXMwMHN0dGcuYXBwcy5nb29nbGV1c2VyY29udGVudC5jb20iLCJzdWIiOiIxMTc0MTk5OTMzMzI3NzU0NzM5MjMiLCJlbWFpbCI6ImthdmVyaS5jaGhpa2FyYUBnbWFpbC5jb20iLCJlbWFpbF92ZXJpZmllZCI6dHJ1ZSwibmJmIjoxNjkwOTg4NzY5LCJuYW1lIjoiS2F2ZXJpIENoaGlrYXJhIiwicGljdHVyZSI6Imh0dHBzOi8vbGgzLmdvb2dsZXVzZXJjb250ZW50LmNvbS9hL0FBY0hUdGNqNmNRbElKU3VNTkxWczBTSGJmLUVpdXV3UjJSQlNGRllDbVFqTERiQ1F5TT1zOTYtYyIsImdpdmVuX25hbWUiOiJLYXZlcmkiLCJmYW1pbHlfbmFtZSI6IkNoaGlrYXJhIiwibG9jYWxlIjoiZW4iLCJpYXQiOjE2OTA5ODkwNjksImV4cCI6MTY5MDk5MjY2OSwianRpIjoiOThlNGU0YWJkNjhmNWI1OWYwMGUwN2VhM2Q0OTEwZDhlNjQyOWI5YyJ9.EwBYMbYc7iPds65Fef_yYbn9i9fvRe4rYMK-7IBjCQW9ALlakIGoqUG8TCDkj7oC9eg_sWTfUrV18F6VEC5qN7A97IYBZf_g4heG0Nb1jhGE0d0FASFVfWDnTSAP77XPfw2uc4Bgq-SvL31Tc7_xWaeoUu6a47P6NU_Cjnb2QBjPdmaetjo7lH7gDNVDJe1Q1f3kaiE6_vpkVlaCdjFvVwl4qPszpZwlOnbPzdvAlgFUu66kULvrX3YBuul_hA4T8-oyEcd2faVz5Leay_ttDHws_jSSicDpLXaTSO6e_ewkPKVQOInI7jNSDYcFYfSzti9gtBDaD_XoyjgAqRIGDQ\n",
    "def get_authorization_url():\n",
    "    \"\"\"\n",
    "    Get the authorization url for the user\n",
    "    \"\"\"\n",
    "    ### Code removed for clarity\n",
    "    oauth = OAuth2(\n",
    "        client_id=CLIENT_ID,\n",
    "        client_secret=CLIENT_SECRET,\n",
    "    )\n",
    "    auth_url, csrf_token = oauth.get_authorization_url(REDIRECT_URI)\n",
    "    ### Code removed for clarity\n",
    "    return auth_url, csrf_token"
   ]
  },
  {
   "cell_type": "code",
   "execution_count": 9,
   "metadata": {},
   "outputs": [
    {
     "data": {
      "text/plain": [
       "'https://account.box.com/api/oauth2/authorize?state=box_csrf_token_ZCNQUWdkVjmAgLZB&response_type=code&client_id=8tiw6nuhzopcfgef9s9366lusndc0hf1&redirect_uri=http%3A%2F%2Flocalhost%3A1410%2F'"
      ]
     },
     "execution_count": 9,
     "metadata": {},
     "output_type": "execute_result"
    }
   ],
   "source": [
    "auth_url, csrf_token = get_authorization_url()\n",
    "auth_url\n",
    "# csrf_token"
   ]
  },
  {
   "cell_type": "code",
   "execution_count": 13,
   "metadata": {},
   "outputs": [
    {
     "ename": "RuntimeError",
     "evalue": "Working outside of application context.\n\nThis typically means that you attempted to use functionality that needed\nthe current application. To solve this, set up an application context\nwith app.app_context(). See the documentation for more information.",
     "output_type": "error",
     "traceback": [
      "\u001b[0;31m---------------------------------------------------------------------------\u001b[0m",
      "\u001b[0;31mRuntimeError\u001b[0m                              Traceback (most recent call last)",
      "Cell \u001b[0;32mIn[13], line 5\u001b[0m\n\u001b[1;32m      3\u001b[0m     auth_url,csrf_token \u001b[39m=\u001b[39m get_authorization_url()\n\u001b[1;32m      4\u001b[0m     \u001b[39mreturn\u001b[39;00m render_template(\u001b[39m'\u001b[39m\u001b[39maccounts/login-box.html\u001b[39m\u001b[39m'\u001b[39m, auth_url\u001b[39m=\u001b[39mauth_url, csrf_token\u001b[39m=\u001b[39mcsrf_token)\n\u001b[0;32m----> 5\u001b[0m login_box()\n",
      "Cell \u001b[0;32mIn[13], line 4\u001b[0m, in \u001b[0;36mlogin_box\u001b[0;34m()\u001b[0m\n\u001b[1;32m      2\u001b[0m \u001b[39mdef\u001b[39;00m \u001b[39mlogin_box\u001b[39m():\n\u001b[1;32m      3\u001b[0m     auth_url,csrf_token \u001b[39m=\u001b[39m get_authorization_url()\n\u001b[0;32m----> 4\u001b[0m     \u001b[39mreturn\u001b[39;00m render_template(\u001b[39m'\u001b[39;49m\u001b[39maccounts/login-box.html\u001b[39;49m\u001b[39m'\u001b[39;49m, auth_url\u001b[39m=\u001b[39;49mauth_url, csrf_token\u001b[39m=\u001b[39;49mcsrf_token)\n",
      "File \u001b[0;32m~/anaconda3/lib/python3.10/site-packages/flask/templating.py:145\u001b[0m, in \u001b[0;36mrender_template\u001b[0;34m(template_name_or_list, **context)\u001b[0m\n\u001b[1;32m    135\u001b[0m \u001b[39mdef\u001b[39;00m \u001b[39mrender_template\u001b[39m(\n\u001b[1;32m    136\u001b[0m     template_name_or_list: t\u001b[39m.\u001b[39mUnion[\u001b[39mstr\u001b[39m, Template, t\u001b[39m.\u001b[39mList[t\u001b[39m.\u001b[39mUnion[\u001b[39mstr\u001b[39m, Template]]],\n\u001b[1;32m    137\u001b[0m     \u001b[39m*\u001b[39m\u001b[39m*\u001b[39mcontext: t\u001b[39m.\u001b[39mAny\n\u001b[1;32m    138\u001b[0m ) \u001b[39m-\u001b[39m\u001b[39m>\u001b[39m \u001b[39mstr\u001b[39m:\n\u001b[1;32m    139\u001b[0m     \u001b[39m\"\"\"Render a template by name with the given context.\u001b[39;00m\n\u001b[1;32m    140\u001b[0m \n\u001b[1;32m    141\u001b[0m \u001b[39m    :param template_name_or_list: The name of the template to render. If\u001b[39;00m\n\u001b[1;32m    142\u001b[0m \u001b[39m        a list is given, the first name to exist will be rendered.\u001b[39;00m\n\u001b[1;32m    143\u001b[0m \u001b[39m    :param context: The variables to make available in the template.\u001b[39;00m\n\u001b[1;32m    144\u001b[0m \u001b[39m    \"\"\"\u001b[39;00m\n\u001b[0;32m--> 145\u001b[0m     app \u001b[39m=\u001b[39m current_app\u001b[39m.\u001b[39;49m_get_current_object()  \u001b[39m# type: ignore[attr-defined]\u001b[39;00m\n\u001b[1;32m    146\u001b[0m     template \u001b[39m=\u001b[39m app\u001b[39m.\u001b[39mjinja_env\u001b[39m.\u001b[39mget_or_select_template(template_name_or_list)\n\u001b[1;32m    147\u001b[0m     \u001b[39mreturn\u001b[39;00m _render(app, template, context)\n",
      "File \u001b[0;32m~/anaconda3/lib/python3.10/site-packages/werkzeug/local.py:513\u001b[0m, in \u001b[0;36mLocalProxy.__init__.<locals>._get_current_object\u001b[0;34m()\u001b[0m\n\u001b[1;32m    511\u001b[0m     obj \u001b[39m=\u001b[39m local\u001b[39m.\u001b[39mget()  \u001b[39m# type: ignore[union-attr]\u001b[39;00m\n\u001b[1;32m    512\u001b[0m \u001b[39mexcept\u001b[39;00m \u001b[39mLookupError\u001b[39;00m:\n\u001b[0;32m--> 513\u001b[0m     \u001b[39mraise\u001b[39;00m \u001b[39mRuntimeError\u001b[39;00m(unbound_message) \u001b[39mfrom\u001b[39;00m \u001b[39mNone\u001b[39m\n\u001b[1;32m    515\u001b[0m \u001b[39mreturn\u001b[39;00m get_name(obj)\n",
      "\u001b[0;31mRuntimeError\u001b[0m: Working outside of application context.\n\nThis typically means that you attempted to use functionality that needed\nthe current application. To solve this, set up an application context\nwith app.app_context(). See the documentation for more information."
     ]
    }
   ],
   "source": [
    "# @blueprint.route('/login-box', methods=['GET', 'POST'])\n",
    "def login_box():\n",
    "    auth_url,csrf_token = get_authorization_url()\n",
    "    return render_template('accounts/login-box.html', auth_url=auth_url, csrf_token=csrf_token)\n",
    "login_box()"
   ]
  },
  {
   "cell_type": "code",
   "execution_count": null,
   "metadata": {},
   "outputs": [],
   "source": [
    "#testing"
   ]
  }
 ],
 "metadata": {
  "kernelspec": {
   "display_name": "Python 3",
   "language": "python",
   "name": "python3"
  },
  "language_info": {
   "codemirror_mode": {
    "name": "ipython",
    "version": 3
   },
   "file_extension": ".py",
   "mimetype": "text/x-python",
   "name": "python",
   "nbconvert_exporter": "python",
   "pygments_lexer": "ipython3",
   "version": "3.8.8"
  }
 },
 "nbformat": 4,
 "nbformat_minor": 2
}
